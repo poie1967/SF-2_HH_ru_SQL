{
  "cells": [
    {
      "cell_type": "markdown",
      "id": "42289889-bd57-434e-9637-d3e354756316",
      "metadata": {
        "id": "42289889-bd57-434e-9637-d3e354756316"
      },
      "source": [
        "<center> <img src = https://raw.githubusercontent.com/AndreyRysistov/DatasetsForPandas/main/hh%20label.jpg alt=\"drawing\" style=\"width:400px;\">"
      ]
    },
    {
      "cell_type": "markdown",
      "id": "829cb75b-f14e-4ba8-9195-7ba929a7d656",
      "metadata": {
        "id": "829cb75b-f14e-4ba8-9195-7ba929a7d656",
        "tags": []
      },
      "source": [
        "# <center> Проект: Анализ вакансий из HeadHunter\n",
        "   "
      ]
    },
    {
      "cell_type": "code",
      "execution_count": 1314,
      "id": "dccfde33-2452-43fb-a8a5-5c6ebc02a71d",
      "metadata": {
        "id": "dccfde33-2452-43fb-a8a5-5c6ebc02a71d"
      },
      "outputs": [],
      "source": [
        "import pandas as pd\n",
        "import psycopg2\n",
        "import requests\n",
        "from bs4 import BeautifulSoup\n",
        "from collections import Counter\n",
        "import matplotlib.pyplot as plt"
      ]
    },
    {
      "cell_type": "code",
      "execution_count": 1315,
      "id": "G4X_q8KBf7SF",
      "metadata": {
        "id": "G4X_q8KBf7SF"
      },
      "outputs": [],
      "source": [
        "# вставьте сюда параметры подключения из юнита 1. Работа с базой данных из Python\n",
        "connection = psycopg2.connect(\n",
        "\n",
        "    dbname='project_sql',\n",
        "\n",
        "    user='skillfactory',\n",
        "\n",
        "    host='84.201.134.129',\n",
        "\n",
        "    password='cCkxxLVrDE8EbvjueeMedPKt',\n",
        "\n",
        "    port=5432\n",
        "\n",
        ")"
      ]
    },
    {
      "cell_type": "markdown",
      "id": "0dc6476b-7a00-44f1-ac93-6e3baed33a29",
      "metadata": {
        "id": "0dc6476b-7a00-44f1-ac93-6e3baed33a29"
      },
      "source": [
        "# Юнит 3. Предварительный анализ данных"
      ]
    },
    {
      "cell_type": "markdown",
      "id": "889782b6-8d1c-410e-8920-e57f27917c64",
      "metadata": {
        "id": "889782b6-8d1c-410e-8920-e57f27917c64"
      },
      "source": [
        "1. Напишите запрос, который посчитает количество вакансий в нашей базе (вакансии находятся в таблице vacancies). "
      ]
    },
    {
      "cell_type": "code",
      "execution_count": 1316,
      "id": "bc39e68e-ed02-4ee2-9235-7258a2f867a8",
      "metadata": {
        "id": "bc39e68e-ed02-4ee2-9235-7258a2f867a8"
      },
      "outputs": [],
      "source": [
        "# текст запроса\n",
        "query_3_1 = f'''\n",
        "SELECT count(*)\n",
        "FROM vacancies    \n",
        "'''"
      ]
    },
    {
      "cell_type": "code",
      "execution_count": 1317,
      "id": "7mAwtsk4hEHY",
      "metadata": {
        "id": "7mAwtsk4hEHY"
      },
      "outputs": [
        {
          "name": "stderr",
          "output_type": "stream",
          "text": [
            "D:\\Temp\\ipykernel_23264\\3752011682.py:2: UserWarning: pandas only supports SQLAlchemy connectable (engine/connection) or database string URI or sqlite3 DBAPI2 connection. Other DBAPI2 objects are not tested. Please consider using SQLAlchemy.\n",
            "  vac_df = pd.read_sql_query(query_3_1, connection)\n"
          ]
        },
        {
          "data": {
            "text/html": [
              "<div>\n",
              "<style scoped>\n",
              "    .dataframe tbody tr th:only-of-type {\n",
              "        vertical-align: middle;\n",
              "    }\n",
              "\n",
              "    .dataframe tbody tr th {\n",
              "        vertical-align: top;\n",
              "    }\n",
              "\n",
              "    .dataframe thead th {\n",
              "        text-align: right;\n",
              "    }\n",
              "</style>\n",
              "<table border=\"1\" class=\"dataframe\">\n",
              "  <thead>\n",
              "    <tr style=\"text-align: right;\">\n",
              "      <th></th>\n",
              "      <th>count</th>\n",
              "    </tr>\n",
              "  </thead>\n",
              "  <tbody>\n",
              "    <tr>\n",
              "      <th>0</th>\n",
              "      <td>49197</td>\n",
              "    </tr>\n",
              "  </tbody>\n",
              "</table>\n",
              "</div>"
            ],
            "text/plain": [
              "   count\n",
              "0  49197"
            ]
          },
          "execution_count": 1317,
          "metadata": {},
          "output_type": "execute_result"
        }
      ],
      "source": [
        "# результат запроса\n",
        "vac_df = pd.read_sql_query(query_3_1, connection)\n",
        "vac_df"
      ]
    },
    {
      "cell_type": "markdown",
      "id": "b583485d-1f9e-494e-ada4-80ffff7c53d6",
      "metadata": {
        "id": "b583485d-1f9e-494e-ada4-80ffff7c53d6"
      },
      "source": [
        "2. Напишите запрос, который посчитает количество работодателей (таблица employers). "
      ]
    },
    {
      "cell_type": "code",
      "execution_count": 1318,
      "id": "5408c52c-3407-4a63-b25b-1aafa2322d28",
      "metadata": {
        "id": "5408c52c-3407-4a63-b25b-1aafa2322d28"
      },
      "outputs": [],
      "source": [
        "# текст запроса\n",
        "query_3_2 = f'''\n",
        "SELECT distinct count(id) AS employers_count\n",
        "FROM employers   \n",
        "'''"
      ]
    },
    {
      "cell_type": "code",
      "execution_count": 1319,
      "id": "jVL4eshKhdqc",
      "metadata": {
        "id": "jVL4eshKhdqc"
      },
      "outputs": [
        {
          "name": "stderr",
          "output_type": "stream",
          "text": [
            "D:\\Temp\\ipykernel_23264\\719013263.py:2: UserWarning: pandas only supports SQLAlchemy connectable (engine/connection) or database string URI or sqlite3 DBAPI2 connection. Other DBAPI2 objects are not tested. Please consider using SQLAlchemy.\n",
            "  emp_df = pd.read_sql_query(query_3_2, connection)\n"
          ]
        },
        {
          "data": {
            "text/html": [
              "<div>\n",
              "<style scoped>\n",
              "    .dataframe tbody tr th:only-of-type {\n",
              "        vertical-align: middle;\n",
              "    }\n",
              "\n",
              "    .dataframe tbody tr th {\n",
              "        vertical-align: top;\n",
              "    }\n",
              "\n",
              "    .dataframe thead th {\n",
              "        text-align: right;\n",
              "    }\n",
              "</style>\n",
              "<table border=\"1\" class=\"dataframe\">\n",
              "  <thead>\n",
              "    <tr style=\"text-align: right;\">\n",
              "      <th></th>\n",
              "      <th>employers_count</th>\n",
              "    </tr>\n",
              "  </thead>\n",
              "  <tbody>\n",
              "    <tr>\n",
              "      <th>0</th>\n",
              "      <td>23501</td>\n",
              "    </tr>\n",
              "  </tbody>\n",
              "</table>\n",
              "</div>"
            ],
            "text/plain": [
              "   employers_count\n",
              "0            23501"
            ]
          },
          "execution_count": 1319,
          "metadata": {},
          "output_type": "execute_result"
        }
      ],
      "source": [
        "# результат запроса\n",
        "emp_df = pd.read_sql_query(query_3_2, connection)\n",
        "emp_df"
      ]
    },
    {
      "cell_type": "markdown",
      "id": "a2bfff1f-c975-4bf6-84be-2185d79dcb76",
      "metadata": {
        "id": "a2bfff1f-c975-4bf6-84be-2185d79dcb76"
      },
      "source": [
        "3. Посчитате с помощью запроса количество регионов (таблица areas)."
      ]
    },
    {
      "cell_type": "code",
      "execution_count": 1320,
      "id": "1m8QJwBYhey6",
      "metadata": {
        "id": "1m8QJwBYhey6"
      },
      "outputs": [],
      "source": [
        "# текст запроса\n",
        "query_3_3 = f\"\"\"\n",
        "SELECT distinct count(name) AS areas_count\n",
        "FROM areas   \n",
        "\"\"\""
      ]
    },
    {
      "cell_type": "code",
      "execution_count": 1321,
      "id": "EZsn9tlfhe7f",
      "metadata": {
        "id": "EZsn9tlfhe7f"
      },
      "outputs": [
        {
          "name": "stderr",
          "output_type": "stream",
          "text": [
            "D:\\Temp\\ipykernel_23264\\879523715.py:2: UserWarning: pandas only supports SQLAlchemy connectable (engine/connection) or database string URI or sqlite3 DBAPI2 connection. Other DBAPI2 objects are not tested. Please consider using SQLAlchemy.\n",
            "  area_df = pd.read_sql_query(query_3_3, connection)\n"
          ]
        },
        {
          "data": {
            "text/html": [
              "<div>\n",
              "<style scoped>\n",
              "    .dataframe tbody tr th:only-of-type {\n",
              "        vertical-align: middle;\n",
              "    }\n",
              "\n",
              "    .dataframe tbody tr th {\n",
              "        vertical-align: top;\n",
              "    }\n",
              "\n",
              "    .dataframe thead th {\n",
              "        text-align: right;\n",
              "    }\n",
              "</style>\n",
              "<table border=\"1\" class=\"dataframe\">\n",
              "  <thead>\n",
              "    <tr style=\"text-align: right;\">\n",
              "      <th></th>\n",
              "      <th>areas_count</th>\n",
              "    </tr>\n",
              "  </thead>\n",
              "  <tbody>\n",
              "    <tr>\n",
              "      <th>0</th>\n",
              "      <td>1362</td>\n",
              "    </tr>\n",
              "  </tbody>\n",
              "</table>\n",
              "</div>"
            ],
            "text/plain": [
              "   areas_count\n",
              "0         1362"
            ]
          },
          "execution_count": 1321,
          "metadata": {},
          "output_type": "execute_result"
        }
      ],
      "source": [
        "# результат запроса\n",
        "area_df = pd.read_sql_query(query_3_3, connection)\n",
        "area_df"
      ]
    },
    {
      "cell_type": "markdown",
      "id": "41bb59f3-53cc-4a67-a5bc-bedf573955e4",
      "metadata": {
        "id": "41bb59f3-53cc-4a67-a5bc-bedf573955e4"
      },
      "source": [
        "4. Посчитайте с помощью запроса количество сфер деятельности в базе (таблица industries)."
      ]
    },
    {
      "cell_type": "code",
      "execution_count": 1322,
      "id": "d286cf4c-707b-4cd2-9190-7ab3587d04a1",
      "metadata": {
        "id": "d286cf4c-707b-4cd2-9190-7ab3587d04a1"
      },
      "outputs": [],
      "source": [
        "# текст запроса\n",
        "query_3_4 = f\"\"\"\n",
        "SELECT distinct count(id) AS industries_count\n",
        "FROM industries   \n",
        "            \"\"\""
      ]
    },
    {
      "cell_type": "code",
      "execution_count": 1323,
      "id": "JYAaoZ4qhfzW",
      "metadata": {
        "id": "JYAaoZ4qhfzW"
      },
      "outputs": [
        {
          "name": "stderr",
          "output_type": "stream",
          "text": [
            "D:\\Temp\\ipykernel_23264\\3199698201.py:2: UserWarning: pandas only supports SQLAlchemy connectable (engine/connection) or database string URI or sqlite3 DBAPI2 connection. Other DBAPI2 objects are not tested. Please consider using SQLAlchemy.\n",
            "  ind_df = pd.read_sql_query(query_3_4, connection)\n"
          ]
        },
        {
          "data": {
            "text/html": [
              "<div>\n",
              "<style scoped>\n",
              "    .dataframe tbody tr th:only-of-type {\n",
              "        vertical-align: middle;\n",
              "    }\n",
              "\n",
              "    .dataframe tbody tr th {\n",
              "        vertical-align: top;\n",
              "    }\n",
              "\n",
              "    .dataframe thead th {\n",
              "        text-align: right;\n",
              "    }\n",
              "</style>\n",
              "<table border=\"1\" class=\"dataframe\">\n",
              "  <thead>\n",
              "    <tr style=\"text-align: right;\">\n",
              "      <th></th>\n",
              "      <th>industries_count</th>\n",
              "    </tr>\n",
              "  </thead>\n",
              "  <tbody>\n",
              "    <tr>\n",
              "      <th>0</th>\n",
              "      <td>294</td>\n",
              "    </tr>\n",
              "  </tbody>\n",
              "</table>\n",
              "</div>"
            ],
            "text/plain": [
              "   industries_count\n",
              "0               294"
            ]
          },
          "execution_count": 1323,
          "metadata": {},
          "output_type": "execute_result"
        }
      ],
      "source": [
        "# результат запроса\n",
        "ind_df = pd.read_sql_query(query_3_4, connection)\n",
        "ind_df"
      ]
    },
    {
      "cell_type": "markdown",
      "id": "9a8a2181-6914-448b-85f1-38f5f18b8a93",
      "metadata": {
        "id": "9a8a2181-6914-448b-85f1-38f5f18b8a93"
      },
      "source": [
        "***"
      ]
    },
    {
      "cell_type": "code",
      "execution_count": 1324,
      "id": "be4e9bd3-a4db-4a20-82fb-6b02fc2957e0",
      "metadata": {
        "id": "be4e9bd3-a4db-4a20-82fb-6b02fc2957e0"
      },
      "outputs": [
        {
          "name": "stderr",
          "output_type": "stream",
          "text": [
            "D:\\Temp\\ipykernel_23264\\3598481701.py:14: UserWarning: pandas only supports SQLAlchemy connectable (engine/connection) or database string URI or sqlite3 DBAPI2 connection. Other DBAPI2 objects are not tested. Please consider using SQLAlchemy.\n",
            "  vac_emp_area_df = pd.read_sql_query(query_3_5, connection)\n"
          ]
        },
        {
          "name": "stdout",
          "output_type": "stream",
          "text": [
            "Количество уникальных работодателей: 14906\n",
            "Количество уникальных регионов: 769\n"
          ]
        }
      ],
      "source": [
        "query_3_5 = f\"\"\"\n",
        "SELECT \n",
        "    vac.id AS vacancy_id,\n",
        "    vac.name AS vacancy_name,\n",
        "    emp.id AS employer_id,\n",
        "    emp.name AS employer_name,\n",
        "    ar.id AS area_id,\n",
        "    ar.name AS area_name\n",
        "FROM vacancies vac\n",
        "LEFT JOIN employers emp ON vac.employer_id = emp.id\n",
        "LEFT JOIN areas ar ON vac.area_id = ar.id\n",
        "\"\"\"\n",
        "# результат запроса\n",
        "vac_emp_area_df = pd.read_sql_query(query_3_5, connection)\n",
        "\n",
        "# display(vac_emp_area_df.head(10))\n",
        "# расчет количества уникальных записей в employer_id и area_id\n",
        "unique_employers = vac_emp_area_df['employer_id'].nunique() \n",
        "unique_areas = vac_emp_area_df['area_id'].nunique()\n",
        "print(f\"Количество уникальных работодателей: {unique_employers}\")\n",
        "print(f\"Количество уникальных регионов: {unique_areas}\")"
      ]
    },
    {
      "cell_type": "markdown",
      "id": "10f2e763",
      "metadata": {},
      "source": [
        "### *Выводы по предварительному анализу данных*"
      ]
    },
    {
      "cell_type": "markdown",
      "id": "54876082",
      "metadata": {},
      "source": [
        "В исследуемой БД нам представлены данные в пяти таблицах:\n",
        "1. vacancies - список вакансий (49197 вакансий от 14906 уникальных работодателей из 769 регионов)\n",
        "2. areas - справочник по регионам (всего 1362)\n",
        "3. employers - справочник по работодателям (всего 23501)\n",
        "4. industries - справочник вариантов сфер деятельности работодателей (всего 294)\n",
        "5. employers_industries - дополнительный справочник\n",
        "\n"
      ]
    },
    {
      "cell_type": "markdown",
      "id": "8d62a9f3-f64e-4fe7-bdac-c4dffa16155e",
      "metadata": {
        "id": "8d62a9f3-f64e-4fe7-bdac-c4dffa16155e"
      },
      "source": [
        "# Юнит 4. Детальный анализ вакансий"
      ]
    },
    {
      "cell_type": "markdown",
      "id": "93053d3d-b284-481a-9cf7-012d7014c0e0",
      "metadata": {
        "id": "93053d3d-b284-481a-9cf7-012d7014c0e0"
      },
      "source": [
        "1. Напишите запрос, который позволит узнать, сколько (cnt) вакансий в каждом регионе (area).\n",
        "Отсортируйте по количеству вакансий в порядке убывания."
      ]
    },
    {
      "cell_type": "code",
      "execution_count": 1325,
      "id": "3f069da6-fdc9-4ae7-b514-fafe2675efd3",
      "metadata": {
        "id": "3f069da6-fdc9-4ae7-b514-fafe2675efd3"
      },
      "outputs": [],
      "source": [
        "# текст запроса\n",
        "query_4_1 = f\"\"\"\n",
        "SELECT\n",
        "    area.name,\n",
        "    count(v.id) AS cnt\n",
        "FROM areas AS area\n",
        "    LEFT JOIN vacancies AS v ON area.id = v.area_id\n",
        "GROUP BY area.name\n",
        "ORDER BY cnt DESC\n",
        "LIMIT 20   \n",
        "\"\"\""
      ]
    },
    {
      "cell_type": "code",
      "execution_count": 1326,
      "id": "P7QL86hrjhRJ",
      "metadata": {
        "id": "P7QL86hrjhRJ"
      },
      "outputs": [
        {
          "name": "stderr",
          "output_type": "stream",
          "text": [
            "D:\\Temp\\ipykernel_23264\\359069637.py:2: UserWarning: pandas only supports SQLAlchemy connectable (engine/connection) or database string URI or sqlite3 DBAPI2 connection. Other DBAPI2 objects are not tested. Please consider using SQLAlchemy.\n",
            "  regions_df = pd.read_sql_query(query_4_1, connection)\n"
          ]
        },
        {
          "data": {
            "text/html": [
              "<div>\n",
              "<style scoped>\n",
              "    .dataframe tbody tr th:only-of-type {\n",
              "        vertical-align: middle;\n",
              "    }\n",
              "\n",
              "    .dataframe tbody tr th {\n",
              "        vertical-align: top;\n",
              "    }\n",
              "\n",
              "    .dataframe thead th {\n",
              "        text-align: right;\n",
              "    }\n",
              "</style>\n",
              "<table border=\"1\" class=\"dataframe\">\n",
              "  <thead>\n",
              "    <tr style=\"text-align: right;\">\n",
              "      <th></th>\n",
              "      <th>name</th>\n",
              "      <th>cnt</th>\n",
              "    </tr>\n",
              "  </thead>\n",
              "  <tbody>\n",
              "    <tr>\n",
              "      <th>0</th>\n",
              "      <td>Москва</td>\n",
              "      <td>5333</td>\n",
              "    </tr>\n",
              "    <tr>\n",
              "      <th>1</th>\n",
              "      <td>Санкт-Петербург</td>\n",
              "      <td>2851</td>\n",
              "    </tr>\n",
              "    <tr>\n",
              "      <th>2</th>\n",
              "      <td>Минск</td>\n",
              "      <td>2112</td>\n",
              "    </tr>\n",
              "    <tr>\n",
              "      <th>3</th>\n",
              "      <td>Новосибирск</td>\n",
              "      <td>2006</td>\n",
              "    </tr>\n",
              "    <tr>\n",
              "      <th>4</th>\n",
              "      <td>Алматы</td>\n",
              "      <td>1892</td>\n",
              "    </tr>\n",
              "    <tr>\n",
              "      <th>5</th>\n",
              "      <td>Екатеринбург</td>\n",
              "      <td>1698</td>\n",
              "    </tr>\n",
              "    <tr>\n",
              "      <th>6</th>\n",
              "      <td>Нижний Новгород</td>\n",
              "      <td>1670</td>\n",
              "    </tr>\n",
              "    <tr>\n",
              "      <th>7</th>\n",
              "      <td>Казань</td>\n",
              "      <td>1415</td>\n",
              "    </tr>\n",
              "    <tr>\n",
              "      <th>8</th>\n",
              "      <td>Краснодар</td>\n",
              "      <td>1301</td>\n",
              "    </tr>\n",
              "    <tr>\n",
              "      <th>9</th>\n",
              "      <td>Самара</td>\n",
              "      <td>1144</td>\n",
              "    </tr>\n",
              "    <tr>\n",
              "      <th>10</th>\n",
              "      <td>Ростов-на-Дону</td>\n",
              "      <td>1131</td>\n",
              "    </tr>\n",
              "    <tr>\n",
              "      <th>11</th>\n",
              "      <td>Воронеж</td>\n",
              "      <td>1063</td>\n",
              "    </tr>\n",
              "    <tr>\n",
              "      <th>12</th>\n",
              "      <td>Ташкент</td>\n",
              "      <td>851</td>\n",
              "    </tr>\n",
              "    <tr>\n",
              "      <th>13</th>\n",
              "      <td>Красноярск</td>\n",
              "      <td>847</td>\n",
              "    </tr>\n",
              "    <tr>\n",
              "      <th>14</th>\n",
              "      <td>Нур-Султан</td>\n",
              "      <td>840</td>\n",
              "    </tr>\n",
              "    <tr>\n",
              "      <th>15</th>\n",
              "      <td>Челябинск</td>\n",
              "      <td>786</td>\n",
              "    </tr>\n",
              "    <tr>\n",
              "      <th>16</th>\n",
              "      <td>Пермь</td>\n",
              "      <td>771</td>\n",
              "    </tr>\n",
              "    <tr>\n",
              "      <th>17</th>\n",
              "      <td>Уфа</td>\n",
              "      <td>767</td>\n",
              "    </tr>\n",
              "    <tr>\n",
              "      <th>18</th>\n",
              "      <td>Томск</td>\n",
              "      <td>692</td>\n",
              "    </tr>\n",
              "    <tr>\n",
              "      <th>19</th>\n",
              "      <td>Омск</td>\n",
              "      <td>617</td>\n",
              "    </tr>\n",
              "  </tbody>\n",
              "</table>\n",
              "</div>"
            ],
            "text/plain": [
              "               name   cnt\n",
              "0            Москва  5333\n",
              "1   Санкт-Петербург  2851\n",
              "2             Минск  2112\n",
              "3       Новосибирск  2006\n",
              "4            Алматы  1892\n",
              "5      Екатеринбург  1698\n",
              "6   Нижний Новгород  1670\n",
              "7            Казань  1415\n",
              "8         Краснодар  1301\n",
              "9            Самара  1144\n",
              "10   Ростов-на-Дону  1131\n",
              "11          Воронеж  1063\n",
              "12          Ташкент   851\n",
              "13       Красноярск   847\n",
              "14       Нур-Султан   840\n",
              "15        Челябинск   786\n",
              "16            Пермь   771\n",
              "17              Уфа   767\n",
              "18            Томск   692\n",
              "19             Омск   617"
            ]
          },
          "execution_count": 1326,
          "metadata": {},
          "output_type": "execute_result"
        }
      ],
      "source": [
        "# результат запроса\n",
        "regions_df = pd.read_sql_query(query_4_1, connection)\n",
        "regions_df"
      ]
    },
    {
      "cell_type": "markdown",
      "id": "4266f0b6-1646-492a-88b4-2f6a46502135",
      "metadata": {
        "id": "4266f0b6-1646-492a-88b4-2f6a46502135"
      },
      "source": [
        "2. Напишите запрос, чтобы определить у какого количества вакансий заполнено хотя бы одно из двух полей с зарплатой."
      ]
    },
    {
      "cell_type": "code",
      "execution_count": 1327,
      "id": "0c44b350-72eb-4d65-8b54-a1fc449ba9fd",
      "metadata": {
        "id": "0c44b350-72eb-4d65-8b54-a1fc449ba9fd"
      },
      "outputs": [],
      "source": [
        "# текст запроса\n",
        "query_4_2 = f\"\"\"\n",
        "SELECT                \n",
        "    COUNT(v.id) AS salary_cnt\n",
        "FROM vacancies AS v\n",
        "WHERE v.salary_from IS NOT NULL OR v.salary_to IS NOT NULL\n",
        "                        \n",
        "\"\"\"            "
      ]
    },
    {
      "cell_type": "code",
      "execution_count": 1328,
      "id": "rhvwaMDkoWTi",
      "metadata": {
        "id": "rhvwaMDkoWTi"
      },
      "outputs": [
        {
          "name": "stderr",
          "output_type": "stream",
          "text": [
            "D:\\Temp\\ipykernel_23264\\2994334641.py:2: UserWarning: pandas only supports SQLAlchemy connectable (engine/connection) or database string URI or sqlite3 DBAPI2 connection. Other DBAPI2 objects are not tested. Please consider using SQLAlchemy.\n",
            "  sal_df = pd.read_sql_query(query_4_2, connection)\n"
          ]
        },
        {
          "data": {
            "text/html": [
              "<div>\n",
              "<style scoped>\n",
              "    .dataframe tbody tr th:only-of-type {\n",
              "        vertical-align: middle;\n",
              "    }\n",
              "\n",
              "    .dataframe tbody tr th {\n",
              "        vertical-align: top;\n",
              "    }\n",
              "\n",
              "    .dataframe thead th {\n",
              "        text-align: right;\n",
              "    }\n",
              "</style>\n",
              "<table border=\"1\" class=\"dataframe\">\n",
              "  <thead>\n",
              "    <tr style=\"text-align: right;\">\n",
              "      <th></th>\n",
              "      <th>salary_cnt</th>\n",
              "    </tr>\n",
              "  </thead>\n",
              "  <tbody>\n",
              "    <tr>\n",
              "      <th>0</th>\n",
              "      <td>24073</td>\n",
              "    </tr>\n",
              "  </tbody>\n",
              "</table>\n",
              "</div>"
            ],
            "text/plain": [
              "   salary_cnt\n",
              "0       24073"
            ]
          },
          "execution_count": 1328,
          "metadata": {},
          "output_type": "execute_result"
        }
      ],
      "source": [
        "# результат запроса\n",
        "sal_df = pd.read_sql_query(query_4_2, connection)\n",
        "sal_df"
      ]
    },
    {
      "cell_type": "markdown",
      "id": "635c4d5d-f323-4c66-b428-50a088120aa0",
      "metadata": {
        "id": "635c4d5d-f323-4c66-b428-50a088120aa0"
      },
      "source": [
        "3. Найдите средние значения для нижней и верхней границы зарплатной вилки. Округлите значения до целого."
      ]
    },
    {
      "cell_type": "code",
      "execution_count": 1329,
      "id": "603cdbe4-0ec3-4106-8eaf-c73fcdd29165",
      "metadata": {
        "id": "603cdbe4-0ec3-4106-8eaf-c73fcdd29165"
      },
      "outputs": [],
      "source": [
        "# текст запроса\n",
        "query_4_3 = f\"\"\"\n",
        "SELECT                \n",
        "    AVG(v.salary_from) AS avg_salary_from,\n",
        "    AVG(v.salary_to) AS avg_salary_to\n",
        "FROM vacancies AS v              \n",
        "\"\"\""
      ]
    },
    {
      "cell_type": "code",
      "execution_count": 1330,
      "id": "pswpAb66ovZZ",
      "metadata": {
        "id": "pswpAb66ovZZ"
      },
      "outputs": [
        {
          "name": "stderr",
          "output_type": "stream",
          "text": [
            "D:\\Temp\\ipykernel_23264\\3651007603.py:2: UserWarning: pandas only supports SQLAlchemy connectable (engine/connection) or database string URI or sqlite3 DBAPI2 connection. Other DBAPI2 objects are not tested. Please consider using SQLAlchemy.\n",
            "  avg_sal_df = pd.read_sql_query(query_4_3, connection)\n"
          ]
        },
        {
          "data": {
            "text/html": [
              "<div>\n",
              "<style scoped>\n",
              "    .dataframe tbody tr th:only-of-type {\n",
              "        vertical-align: middle;\n",
              "    }\n",
              "\n",
              "    .dataframe tbody tr th {\n",
              "        vertical-align: top;\n",
              "    }\n",
              "\n",
              "    .dataframe thead th {\n",
              "        text-align: right;\n",
              "    }\n",
              "</style>\n",
              "<table border=\"1\" class=\"dataframe\">\n",
              "  <thead>\n",
              "    <tr style=\"text-align: right;\">\n",
              "      <th></th>\n",
              "      <th>avg_salary_from</th>\n",
              "      <th>avg_salary_to</th>\n",
              "    </tr>\n",
              "  </thead>\n",
              "  <tbody>\n",
              "    <tr>\n",
              "      <th>0</th>\n",
              "      <td>71065.0</td>\n",
              "      <td>110537.0</td>\n",
              "    </tr>\n",
              "  </tbody>\n",
              "</table>\n",
              "</div>"
            ],
            "text/plain": [
              "   avg_salary_from  avg_salary_to\n",
              "0          71065.0       110537.0"
            ]
          },
          "execution_count": 1330,
          "metadata": {},
          "output_type": "execute_result"
        }
      ],
      "source": [
        "# результат запроса\n",
        "avg_sal_df = pd.read_sql_query(query_4_3, connection)\n",
        "# округляем значения avg_salary_from & avg_salary_to до целых\n",
        "avg_sal_df['avg_salary_from'] = avg_sal_df['avg_salary_from'].round(0)\n",
        "avg_sal_df['avg_salary_to'] = avg_sal_df['avg_salary_to'].round(0)\n",
        "avg_sal_df"
      ]
    },
    {
      "cell_type": "markdown",
      "id": "f3fdaec9-5fd3-4260-9cf5-1d7406b628a5",
      "metadata": {
        "id": "f3fdaec9-5fd3-4260-9cf5-1d7406b628a5"
      },
      "source": [
        "4. Напишите запрос, который выведет количество вакансий для каждого сочетания типа рабочего графика (schedule) и типа трудоустройства (employment), используемого в вакансиях. Результат отсортируйте по убыванию количества.\n"
      ]
    },
    {
      "cell_type": "code",
      "execution_count": 1331,
      "id": "1ea710ec-871b-431e-9462-c7d0fd87011b",
      "metadata": {
        "id": "1ea710ec-871b-431e-9462-c7d0fd87011b"
      },
      "outputs": [],
      "source": [
        "# текст запроса\n",
        "query_4_4 = f\"\"\"\n",
        "SELECT              \n",
        "    v.schedule,\n",
        "    v.employment,\n",
        "    COUNT(v.id) AS cnt\n",
        "FROM vacancies AS v \n",
        "GROUP BY v.schedule, v.employment\n",
        "ORDER by cnt desc                \n",
        "--OFFSET 1\n",
        "--LIMIT 1\n",
        "                             \n",
        "\"\"\""
      ]
    },
    {
      "cell_type": "code",
      "execution_count": 1332,
      "id": "lGUVqavdo4JQ",
      "metadata": {
        "id": "lGUVqavdo4JQ"
      },
      "outputs": [
        {
          "name": "stderr",
          "output_type": "stream",
          "text": [
            "D:\\Temp\\ipykernel_23264\\2205611185.py:2: UserWarning: pandas only supports SQLAlchemy connectable (engine/connection) or database string URI or sqlite3 DBAPI2 connection. Other DBAPI2 objects are not tested. Please consider using SQLAlchemy.\n",
            "  sh_emp_df = pd.read_sql_query(query_4_4, connection)\n"
          ]
        },
        {
          "data": {
            "text/html": [
              "<div>\n",
              "<style scoped>\n",
              "    .dataframe tbody tr th:only-of-type {\n",
              "        vertical-align: middle;\n",
              "    }\n",
              "\n",
              "    .dataframe tbody tr th {\n",
              "        vertical-align: top;\n",
              "    }\n",
              "\n",
              "    .dataframe thead th {\n",
              "        text-align: right;\n",
              "    }\n",
              "</style>\n",
              "<table border=\"1\" class=\"dataframe\">\n",
              "  <thead>\n",
              "    <tr style=\"text-align: right;\">\n",
              "      <th></th>\n",
              "      <th>schedule</th>\n",
              "      <th>employment</th>\n",
              "      <th>cnt</th>\n",
              "    </tr>\n",
              "  </thead>\n",
              "  <tbody>\n",
              "    <tr>\n",
              "      <th>0</th>\n",
              "      <td>Полный день</td>\n",
              "      <td>Полная занятость</td>\n",
              "      <td>35367</td>\n",
              "    </tr>\n",
              "    <tr>\n",
              "      <th>1</th>\n",
              "      <td>Удаленная работа</td>\n",
              "      <td>Полная занятость</td>\n",
              "      <td>7802</td>\n",
              "    </tr>\n",
              "    <tr>\n",
              "      <th>2</th>\n",
              "      <td>Гибкий график</td>\n",
              "      <td>Полная занятость</td>\n",
              "      <td>1593</td>\n",
              "    </tr>\n",
              "    <tr>\n",
              "      <th>3</th>\n",
              "      <td>Удаленная работа</td>\n",
              "      <td>Частичная занятость</td>\n",
              "      <td>1312</td>\n",
              "    </tr>\n",
              "    <tr>\n",
              "      <th>4</th>\n",
              "      <td>Сменный график</td>\n",
              "      <td>Полная занятость</td>\n",
              "      <td>940</td>\n",
              "    </tr>\n",
              "    <tr>\n",
              "      <th>5</th>\n",
              "      <td>Полный день</td>\n",
              "      <td>Стажировка</td>\n",
              "      <td>569</td>\n",
              "    </tr>\n",
              "    <tr>\n",
              "      <th>6</th>\n",
              "      <td>Вахтовый метод</td>\n",
              "      <td>Полная занятость</td>\n",
              "      <td>367</td>\n",
              "    </tr>\n",
              "    <tr>\n",
              "      <th>7</th>\n",
              "      <td>Полный день</td>\n",
              "      <td>Частичная занятость</td>\n",
              "      <td>347</td>\n",
              "    </tr>\n",
              "    <tr>\n",
              "      <th>8</th>\n",
              "      <td>Гибкий график</td>\n",
              "      <td>Частичная занятость</td>\n",
              "      <td>312</td>\n",
              "    </tr>\n",
              "    <tr>\n",
              "      <th>9</th>\n",
              "      <td>Полный день</td>\n",
              "      <td>Проектная работа</td>\n",
              "      <td>141</td>\n",
              "    </tr>\n",
              "    <tr>\n",
              "      <th>10</th>\n",
              "      <td>Удаленная работа</td>\n",
              "      <td>Проектная работа</td>\n",
              "      <td>133</td>\n",
              "    </tr>\n",
              "    <tr>\n",
              "      <th>11</th>\n",
              "      <td>Гибкий график</td>\n",
              "      <td>Стажировка</td>\n",
              "      <td>116</td>\n",
              "    </tr>\n",
              "    <tr>\n",
              "      <th>12</th>\n",
              "      <td>Сменный график</td>\n",
              "      <td>Частичная занятость</td>\n",
              "      <td>101</td>\n",
              "    </tr>\n",
              "    <tr>\n",
              "      <th>13</th>\n",
              "      <td>Удаленная работа</td>\n",
              "      <td>Стажировка</td>\n",
              "      <td>64</td>\n",
              "    </tr>\n",
              "    <tr>\n",
              "      <th>14</th>\n",
              "      <td>Гибкий график</td>\n",
              "      <td>Проектная работа</td>\n",
              "      <td>18</td>\n",
              "    </tr>\n",
              "    <tr>\n",
              "      <th>15</th>\n",
              "      <td>Сменный график</td>\n",
              "      <td>Стажировка</td>\n",
              "      <td>12</td>\n",
              "    </tr>\n",
              "    <tr>\n",
              "      <th>16</th>\n",
              "      <td>Вахтовый метод</td>\n",
              "      <td>Проектная работа</td>\n",
              "      <td>2</td>\n",
              "    </tr>\n",
              "    <tr>\n",
              "      <th>17</th>\n",
              "      <td>Сменный график</td>\n",
              "      <td>Проектная работа</td>\n",
              "      <td>1</td>\n",
              "    </tr>\n",
              "  </tbody>\n",
              "</table>\n",
              "</div>"
            ],
            "text/plain": [
              "            schedule           employment    cnt\n",
              "0        Полный день     Полная занятость  35367\n",
              "1   Удаленная работа     Полная занятость   7802\n",
              "2      Гибкий график     Полная занятость   1593\n",
              "3   Удаленная работа  Частичная занятость   1312\n",
              "4     Сменный график     Полная занятость    940\n",
              "5        Полный день           Стажировка    569\n",
              "6     Вахтовый метод     Полная занятость    367\n",
              "7        Полный день  Частичная занятость    347\n",
              "8      Гибкий график  Частичная занятость    312\n",
              "9        Полный день     Проектная работа    141\n",
              "10  Удаленная работа     Проектная работа    133\n",
              "11     Гибкий график           Стажировка    116\n",
              "12    Сменный график  Частичная занятость    101\n",
              "13  Удаленная работа           Стажировка     64\n",
              "14     Гибкий график     Проектная работа     18\n",
              "15    Сменный график           Стажировка     12\n",
              "16    Вахтовый метод     Проектная работа      2\n",
              "17    Сменный график     Проектная работа      1"
            ]
          },
          "execution_count": 1332,
          "metadata": {},
          "output_type": "execute_result"
        }
      ],
      "source": [
        "# результат запроса\n",
        "sh_emp_df = pd.read_sql_query(query_4_4, connection)\n",
        "sh_emp_df"
      ]
    },
    {
      "cell_type": "markdown",
      "id": "0136ffee-0ead-4a6b-b608-61d1c753a438",
      "metadata": {
        "id": "0136ffee-0ead-4a6b-b608-61d1c753a438"
      },
      "source": [
        "5. Напишите запрос, выводящий значения поля Требуемый опыт работы (experience) в порядке возрастания количества вакансий, в которых указан данный вариант опыта. "
      ]
    },
    {
      "cell_type": "code",
      "execution_count": 1333,
      "id": "5b3a8e79-f7ab-4008-b767-12aea3a205ea",
      "metadata": {
        "id": "5b3a8e79-f7ab-4008-b767-12aea3a205ea"
      },
      "outputs": [],
      "source": [
        "# текст запроса\n",
        "query_4_5 = f\"\"\"\n",
        "SELECT             \n",
        "    v.experience,\n",
        "    COUNT(v.id) AS cnt\n",
        "FROM vacancies AS v \n",
        "GROUP BY v.experience\n",
        "ORDER by cnt                                                       \n",
        "\"\"\""
      ]
    },
    {
      "cell_type": "code",
      "execution_count": 1334,
      "id": "3Is64Y-hpDpq",
      "metadata": {
        "id": "3Is64Y-hpDpq"
      },
      "outputs": [
        {
          "name": "stderr",
          "output_type": "stream",
          "text": [
            "D:\\Temp\\ipykernel_23264\\1651652980.py:2: UserWarning: pandas only supports SQLAlchemy connectable (engine/connection) or database string URI or sqlite3 DBAPI2 connection. Other DBAPI2 objects are not tested. Please consider using SQLAlchemy.\n",
            "  expiriece_df = pd.read_sql_query(query_4_5, connection)\n"
          ]
        },
        {
          "data": {
            "text/html": [
              "<div>\n",
              "<style scoped>\n",
              "    .dataframe tbody tr th:only-of-type {\n",
              "        vertical-align: middle;\n",
              "    }\n",
              "\n",
              "    .dataframe tbody tr th {\n",
              "        vertical-align: top;\n",
              "    }\n",
              "\n",
              "    .dataframe thead th {\n",
              "        text-align: right;\n",
              "    }\n",
              "</style>\n",
              "<table border=\"1\" class=\"dataframe\">\n",
              "  <thead>\n",
              "    <tr style=\"text-align: right;\">\n",
              "      <th></th>\n",
              "      <th>experience</th>\n",
              "      <th>cnt</th>\n",
              "      <th>percentage</th>\n",
              "    </tr>\n",
              "  </thead>\n",
              "  <tbody>\n",
              "    <tr>\n",
              "      <th>0</th>\n",
              "      <td>Более 6 лет</td>\n",
              "      <td>1337</td>\n",
              "      <td>2.72</td>\n",
              "    </tr>\n",
              "    <tr>\n",
              "      <th>1</th>\n",
              "      <td>Нет опыта</td>\n",
              "      <td>7197</td>\n",
              "      <td>14.63</td>\n",
              "    </tr>\n",
              "    <tr>\n",
              "      <th>2</th>\n",
              "      <td>От 3 до 6 лет</td>\n",
              "      <td>14511</td>\n",
              "      <td>29.50</td>\n",
              "    </tr>\n",
              "    <tr>\n",
              "      <th>3</th>\n",
              "      <td>От 1 года до 3 лет</td>\n",
              "      <td>26152</td>\n",
              "      <td>53.16</td>\n",
              "    </tr>\n",
              "  </tbody>\n",
              "</table>\n",
              "</div>"
            ],
            "text/plain": [
              "           experience    cnt  percentage\n",
              "0         Более 6 лет   1337        2.72\n",
              "1           Нет опыта   7197       14.63\n",
              "2       От 3 до 6 лет  14511       29.50\n",
              "3  От 1 года до 3 лет  26152       53.16"
            ]
          },
          "execution_count": 1334,
          "metadata": {},
          "output_type": "execute_result"
        }
      ],
      "source": [
        "# результат запроса\n",
        "expiriece_df = pd.read_sql_query(query_4_5, connection)\n",
        "# Добавляем стобец percentage, который показывает процент от общего количества вакансий\n",
        "expiriece_df['percentage'] = (expiriece_df['cnt'] / vac_df.iloc[0, 0]) * 100\n",
        "expiriece_df['percentage'] = expiriece_df['percentage'].round(2)\n",
        "expiriece_df"
      ]
    },
    {
      "cell_type": "markdown",
      "id": "oq2b7n1QpIka",
      "metadata": {
        "id": "oq2b7n1QpIka"
      },
      "source": [
        "***"
      ]
    },
    {
      "cell_type": "code",
      "execution_count": 1335,
      "id": "e91f87ed-e25c-4f96-9f92-b642e8c0b4fa",
      "metadata": {
        "id": "e91f87ed-e25c-4f96-9f92-b642e8c0b4fa"
      },
      "outputs": [
        {
          "name": "stderr",
          "output_type": "stream",
          "text": [
            "D:\\Temp\\ipykernel_23264\\2231400768.py:6: UserWarning: pandas only supports SQLAlchemy connectable (engine/connection) or database string URI or sqlite3 DBAPI2 connection. Other DBAPI2 objects are not tested. Please consider using SQLAlchemy.\n",
            "  vac_sal_df = pd.read_sql_query(query_4_sal, connection)\n"
          ]
        },
        {
          "name": "stdout",
          "output_type": "stream",
          "text": [
            "Процентиль 25, 50, 75 для salary_from и salary_to:\n",
            "     salary_from  salary_to\n",
            "25%      35000.0    50000.0\n",
            "50%      50000.0    80000.0\n",
            "75%      90000.0   150000.0\n",
            "Процент вакансий, в которых не указана зарплата: 51.07%\n"
          ]
        }
      ],
      "source": [
        "query_4_sal = f\"\"\"\n",
        "SELECT *\n",
        "FROM vacancies AS v\n",
        "\"\"\"\n",
        "# результат запроса\n",
        "vac_sal_df = pd.read_sql_query(query_4_sal, connection)\n",
        "# расчитать процентиль 25, 50, 75 для salary_from и salary_to\n",
        "percentiles = vac_sal_df[['salary_from', 'salary_to']].quantile([0.25, 0.5, 0.75])\n",
        "# округляем значения до целых\n",
        "percentiles = percentiles.round(0)\n",
        "# переименовываем индексы\n",
        "percentiles.index = ['25%', '50%', '75%']\n",
        "# выводим результат\n",
        "print(\"Процентиль 25, 50, 75 для salary_from и salary_to:\")\n",
        "print(percentiles)\n",
        "\n",
        "# подсчёт процента вакансий в которых не указана зарплата salary_from и salary_to\n",
        "vac_sal_df['no_salary'] = vac_sal_df['salary_from'].isnull() & vac_sal_df['salary_to'].isnull()\n",
        "no_salary_count = vac_sal_df['no_salary'].sum()\n",
        "total_vacancies = vac_sal_df.shape[0]\n",
        "no_salary_percentage = (no_salary_count / total_vacancies) * 100\n",
        "print(f\"Процент вакансий, в которых не указана зарплата: {no_salary_percentage:.2f}%\")\n",
        "\n"
      ]
    },
    {
      "cell_type": "markdown",
      "id": "43ecc383",
      "metadata": {},
      "source": [
        "### *Выводы по детальному анализу вакансий*"
      ]
    },
    {
      "cell_type": "markdown",
      "id": "da5d32fb",
      "metadata": {},
      "source": [
        "1. *В ТОП-20 городов по количеству предлагаемых вакансий представлены в основном города милионники, столицы государств или города численность которых приближается к отметке в 1 000 000 жителей.*\n",
        "2. *К сожалению далеко не все работодатели указывают уровень желаемой зарплаты, всего в данном кейсе из 49197 вакансий в 24073 случаях указан хоть один из уровней З/П, что составляет чуть менее 50%.*\n",
        "3. *Средние уровнии заплат для вакансий, где указана хотя бы одна из границ, **salary_from и salary_to - 71065.0\t110537.0 ₽** соответственно, в то время как половина вилок предлагаемых З/П находится в пределах *35000.0 - 50000.0* и *90000.0 - 150000.0* ₽.* \n",
        "4. *Наибольший интерес для работодателей предсталяют кандидаты с полной занятостью среди которых лидируют те, кто готов трудиться полный день.* \n",
        "5. *В половине случаев (53.16%) работодатели ищут специалистов с минимальным опытом работы 1 - 3 года*"
      ]
    },
    {
      "cell_type": "markdown",
      "id": "7ea20ab6-04a7-40a0-adec-443a0e5a42c3",
      "metadata": {
        "id": "7ea20ab6-04a7-40a0-adec-443a0e5a42c3"
      },
      "source": [
        "# Юнит 5. Анализ работодателей"
      ]
    },
    {
      "cell_type": "markdown",
      "id": "968aed80-74ef-4ffb-b5bf-c65b84e9caea",
      "metadata": {
        "id": "968aed80-74ef-4ffb-b5bf-c65b84e9caea"
      },
      "source": [
        "1. Напишите запрос, который позволит узнать, какие работодатели находятся на первом и пятом месте по количеству вакансий."
      ]
    },
    {
      "cell_type": "code",
      "execution_count": 1336,
      "id": "f2d62796-d400-4ec1-a675-88112739a50e",
      "metadata": {
        "id": "f2d62796-d400-4ec1-a675-88112739a50e"
      },
      "outputs": [],
      "source": [
        "# текст запроса\n",
        "query_5_1 = f\"\"\"\n",
        "SELECT             \n",
        "    e.name AS employer_name,\n",
        "    e.id AS employer_id,\n",
        "    COUNT(v.employer_id) AS cnt\n",
        "FROM employers AS e\n",
        "    JOIN vacancies AS v ON e.id = v.employer_id\n",
        "GROUP BY \n",
        "    e.name,\n",
        "    e.id\n",
        "ORDER by cnt DESC          \n",
        "--LIMIT 30                                           \n",
        "\"\"\""
      ]
    },
    {
      "cell_type": "code",
      "execution_count": 1337,
      "id": "64tOMkAxqkQk",
      "metadata": {
        "id": "64tOMkAxqkQk"
      },
      "outputs": [
        {
          "name": "stderr",
          "output_type": "stream",
          "text": [
            "D:\\Temp\\ipykernel_23264\\345242690.py:2: UserWarning: pandas only supports SQLAlchemy connectable (engine/connection) or database string URI or sqlite3 DBAPI2 connection. Other DBAPI2 objects are not tested. Please consider using SQLAlchemy.\n",
            "  employers_df = pd.read_sql_query(query_5_1, connection)\n"
          ]
        },
        {
          "data": {
            "text/html": [
              "<div>\n",
              "<style scoped>\n",
              "    .dataframe tbody tr th:only-of-type {\n",
              "        vertical-align: middle;\n",
              "    }\n",
              "\n",
              "    .dataframe tbody tr th {\n",
              "        vertical-align: top;\n",
              "    }\n",
              "\n",
              "    .dataframe thead th {\n",
              "        text-align: right;\n",
              "    }\n",
              "</style>\n",
              "<table border=\"1\" class=\"dataframe\">\n",
              "  <thead>\n",
              "    <tr style=\"text-align: right;\">\n",
              "      <th></th>\n",
              "      <th>employer_name</th>\n",
              "      <th>employer_id</th>\n",
              "      <th>cnt</th>\n",
              "    </tr>\n",
              "  </thead>\n",
              "  <tbody>\n",
              "    <tr>\n",
              "      <th>0</th>\n",
              "      <td>Яндекс</td>\n",
              "      <td>1740</td>\n",
              "      <td>1933</td>\n",
              "    </tr>\n",
              "    <tr>\n",
              "      <th>1</th>\n",
              "      <td>Ростелеком</td>\n",
              "      <td>2748</td>\n",
              "      <td>491</td>\n",
              "    </tr>\n",
              "    <tr>\n",
              "      <th>2</th>\n",
              "      <td>Тинькофф</td>\n",
              "      <td>78638</td>\n",
              "      <td>444</td>\n",
              "    </tr>\n",
              "    <tr>\n",
              "      <th>3</th>\n",
              "      <td>СБЕР</td>\n",
              "      <td>3529</td>\n",
              "      <td>428</td>\n",
              "    </tr>\n",
              "    <tr>\n",
              "      <th>4</th>\n",
              "      <td>Газпром нефть</td>\n",
              "      <td>39305</td>\n",
              "      <td>331</td>\n",
              "    </tr>\n",
              "    <tr>\n",
              "      <th>...</th>\n",
              "      <td>...</td>\n",
              "      <td>...</td>\n",
              "      <td>...</td>\n",
              "    </tr>\n",
              "    <tr>\n",
              "      <th>14901</th>\n",
              "      <td>Евсеев Сергей Владимирович</td>\n",
              "      <td>4868743</td>\n",
              "      <td>1</td>\n",
              "    </tr>\n",
              "    <tr>\n",
              "      <th>14902</th>\n",
              "      <td>Кадровые технологии</td>\n",
              "      <td>1620</td>\n",
              "      <td>1</td>\n",
              "    </tr>\n",
              "    <tr>\n",
              "      <th>14903</th>\n",
              "      <td>ЛОМБАРД 24</td>\n",
              "      <td>3253186</td>\n",
              "      <td>1</td>\n",
              "    </tr>\n",
              "    <tr>\n",
              "      <th>14904</th>\n",
              "      <td>Авто-Компонент ТД</td>\n",
              "      <td>592461</td>\n",
              "      <td>1</td>\n",
              "    </tr>\n",
              "    <tr>\n",
              "      <th>14905</th>\n",
              "      <td>НПП «Старт» им. А.И. Яскина</td>\n",
              "      <td>1842222</td>\n",
              "      <td>1</td>\n",
              "    </tr>\n",
              "  </tbody>\n",
              "</table>\n",
              "<p>14906 rows × 3 columns</p>\n",
              "</div>"
            ],
            "text/plain": [
              "                     employer_name  employer_id   cnt\n",
              "0                           Яндекс         1740  1933\n",
              "1                       Ростелеком         2748   491\n",
              "2                         Тинькофф        78638   444\n",
              "3                             СБЕР         3529   428\n",
              "4                    Газпром нефть        39305   331\n",
              "...                            ...          ...   ...\n",
              "14901   Евсеев Сергей Владимирович      4868743     1\n",
              "14902          Кадровые технологии         1620     1\n",
              "14903                   ЛОМБАРД 24      3253186     1\n",
              "14904            Авто-Компонент ТД       592461     1\n",
              "14905  НПП «Старт» им. А.И. Яскина      1842222     1\n",
              "\n",
              "[14906 rows x 3 columns]"
            ]
          },
          "metadata": {},
          "output_type": "display_data"
        }
      ],
      "source": [
        "# результат запроса\n",
        "employers_df = pd.read_sql_query(query_5_1, connection)\n",
        "display(employers_df)\n",
        "# Определяем топ-50 работодателей по количеству вакансий\n",
        "top50_employers_df = employers_df.head(50)\n",
        "# Сохраняем топ-50 работодателей в excel файл\n",
        "# top50_employers_df.to_excel('top50_employers.xlsx', index=False)\n"
      ]
    },
    {
      "cell_type": "markdown",
      "id": "68377cfc-b378-43dc-ab7d-1195abf2c515",
      "metadata": {
        "id": "68377cfc-b378-43dc-ab7d-1195abf2c515"
      },
      "source": [
        "2. Напишите запрос, который для каждого региона выведет количество работодателей и вакансий в нём.\n",
        "Среди регионов, в которых нет вакансий, найдите тот, в котором наибольшее количество работодателей.\n"
      ]
    },
    {
      "cell_type": "code",
      "execution_count": 1338,
      "id": "dd7df27a-e3e8-412e-a21a-5d389b71e891",
      "metadata": {
        "id": "dd7df27a-e3e8-412e-a21a-5d389b71e891"
      },
      "outputs": [],
      "source": [
        "# текст запроса\n",
        "\n",
        "query_5_2 = f\"\"\"\n",
        "SELECT \n",
        "    area_employers.area_name,\n",
        "    area_employers.employers_count,\n",
        "    COUNT(v.id) AS vacancies_count\n",
        "FROM (\n",
        "SELECT\n",
        "    area.name AS area_name,\n",
        "    area.id AS area_id,\n",
        "    COUNT(DISTINCT e.id) AS employers_count                     \n",
        "FROM areas AS area\n",
        "LEFT JOIN employers AS e ON e.area = area.id                \n",
        "GROUP BY area_id, area.name) AS area_employers\n",
        "                \n",
        "LEFT JOIN vacancies AS v ON area_employers.area_id = v.area_id\n",
        "GROUP BY area_employers.area_name, area_employers.employers_count\n",
        "HAVING area_employers.employers_count > 0 and COUNT(v.id) = 0\n",
        "ORDER BY area_employers.employers_count DESC                                                      \n",
        "\"\"\""
      ]
    },
    {
      "cell_type": "code",
      "execution_count": 1339,
      "id": "9c65d46b",
      "metadata": {},
      "outputs": [
        {
          "name": "stderr",
          "output_type": "stream",
          "text": [
            "D:\\Temp\\ipykernel_23264\\3413355441.py:2: UserWarning: pandas only supports SQLAlchemy connectable (engine/connection) or database string URI or sqlite3 DBAPI2 connection. Other DBAPI2 objects are not tested. Please consider using SQLAlchemy.\n",
            "  no_employers_df = pd.read_sql_query(query_5_2, connection)\n"
          ]
        },
        {
          "data": {
            "text/html": [
              "<div>\n",
              "<style scoped>\n",
              "    .dataframe tbody tr th:only-of-type {\n",
              "        vertical-align: middle;\n",
              "    }\n",
              "\n",
              "    .dataframe tbody tr th {\n",
              "        vertical-align: top;\n",
              "    }\n",
              "\n",
              "    .dataframe thead th {\n",
              "        text-align: right;\n",
              "    }\n",
              "</style>\n",
              "<table border=\"1\" class=\"dataframe\">\n",
              "  <thead>\n",
              "    <tr style=\"text-align: right;\">\n",
              "      <th></th>\n",
              "      <th>area_name</th>\n",
              "      <th>employers_count</th>\n",
              "      <th>vacancies_count</th>\n",
              "    </tr>\n",
              "  </thead>\n",
              "  <tbody>\n",
              "    <tr>\n",
              "      <th>0</th>\n",
              "      <td>Россия</td>\n",
              "      <td>410</td>\n",
              "      <td>0</td>\n",
              "    </tr>\n",
              "    <tr>\n",
              "      <th>1</th>\n",
              "      <td>Казахстан</td>\n",
              "      <td>207</td>\n",
              "      <td>0</td>\n",
              "    </tr>\n",
              "    <tr>\n",
              "      <th>2</th>\n",
              "      <td>Московская область</td>\n",
              "      <td>75</td>\n",
              "      <td>0</td>\n",
              "    </tr>\n",
              "    <tr>\n",
              "      <th>3</th>\n",
              "      <td>Краснодарский край</td>\n",
              "      <td>19</td>\n",
              "      <td>0</td>\n",
              "    </tr>\n",
              "    <tr>\n",
              "      <th>4</th>\n",
              "      <td>Беларусь</td>\n",
              "      <td>18</td>\n",
              "      <td>0</td>\n",
              "    </tr>\n",
              "    <tr>\n",
              "      <th>5</th>\n",
              "      <td>Ростовская область</td>\n",
              "      <td>18</td>\n",
              "      <td>0</td>\n",
              "    </tr>\n",
              "    <tr>\n",
              "      <th>6</th>\n",
              "      <td>Азербайджан</td>\n",
              "      <td>17</td>\n",
              "      <td>0</td>\n",
              "    </tr>\n",
              "    <tr>\n",
              "      <th>7</th>\n",
              "      <td>Нижегородская область</td>\n",
              "      <td>16</td>\n",
              "      <td>0</td>\n",
              "    </tr>\n",
              "    <tr>\n",
              "      <th>8</th>\n",
              "      <td>Республика Татарстан</td>\n",
              "      <td>16</td>\n",
              "      <td>0</td>\n",
              "    </tr>\n",
              "    <tr>\n",
              "      <th>9</th>\n",
              "      <td>Узбекистан</td>\n",
              "      <td>15</td>\n",
              "      <td>0</td>\n",
              "    </tr>\n",
              "    <tr>\n",
              "      <th>10</th>\n",
              "      <td>Белгородская область</td>\n",
              "      <td>10</td>\n",
              "      <td>0</td>\n",
              "    </tr>\n",
              "    <tr>\n",
              "      <th>11</th>\n",
              "      <td>Сингапур</td>\n",
              "      <td>10</td>\n",
              "      <td>0</td>\n",
              "    </tr>\n",
              "    <tr>\n",
              "      <th>12</th>\n",
              "      <td>Калужская область</td>\n",
              "      <td>9</td>\n",
              "      <td>0</td>\n",
              "    </tr>\n",
              "    <tr>\n",
              "      <th>13</th>\n",
              "      <td>Ленинградская область</td>\n",
              "      <td>9</td>\n",
              "      <td>0</td>\n",
              "    </tr>\n",
              "    <tr>\n",
              "      <th>14</th>\n",
              "      <td>Самарская область</td>\n",
              "      <td>7</td>\n",
              "      <td>0</td>\n",
              "    </tr>\n",
              "    <tr>\n",
              "      <th>15</th>\n",
              "      <td>Воронежская область</td>\n",
              "      <td>7</td>\n",
              "      <td>0</td>\n",
              "    </tr>\n",
              "    <tr>\n",
              "      <th>16</th>\n",
              "      <td>Кировская область</td>\n",
              "      <td>6</td>\n",
              "      <td>0</td>\n",
              "    </tr>\n",
              "    <tr>\n",
              "      <th>17</th>\n",
              "      <td>Кыргызстан</td>\n",
              "      <td>6</td>\n",
              "      <td>0</td>\n",
              "    </tr>\n",
              "    <tr>\n",
              "      <th>18</th>\n",
              "      <td>Австралия</td>\n",
              "      <td>6</td>\n",
              "      <td>0</td>\n",
              "    </tr>\n",
              "    <tr>\n",
              "      <th>19</th>\n",
              "      <td>Ставропольский край</td>\n",
              "      <td>6</td>\n",
              "      <td>0</td>\n",
              "    </tr>\n",
              "  </tbody>\n",
              "</table>\n",
              "</div>"
            ],
            "text/plain": [
              "                area_name  employers_count  vacancies_count\n",
              "0                  Россия              410                0\n",
              "1               Казахстан              207                0\n",
              "2      Московская область               75                0\n",
              "3      Краснодарский край               19                0\n",
              "4                Беларусь               18                0\n",
              "5      Ростовская область               18                0\n",
              "6             Азербайджан               17                0\n",
              "7   Нижегородская область               16                0\n",
              "8    Республика Татарстан               16                0\n",
              "9              Узбекистан               15                0\n",
              "10   Белгородская область               10                0\n",
              "11               Сингапур               10                0\n",
              "12      Калужская область                9                0\n",
              "13  Ленинградская область                9                0\n",
              "14      Самарская область                7                0\n",
              "15    Воронежская область                7                0\n",
              "16      Кировская область                6                0\n",
              "17             Кыргызстан                6                0\n",
              "18              Австралия                6                0\n",
              "19    Ставропольский край                6                0"
            ]
          },
          "execution_count": 1339,
          "metadata": {},
          "output_type": "execute_result"
        }
      ],
      "source": [
        "# результат запроса\n",
        "no_employers_df = pd.read_sql_query(query_5_2, connection)\n",
        "no_employers_df\n",
        "# вывести первые 20 строк\n",
        "no_employers_df.head(20)\n"
      ]
    },
    {
      "cell_type": "markdown",
      "id": "f2fe0acb-ab1a-4e15-9326-2560e22d73c1",
      "metadata": {
        "id": "f2fe0acb-ab1a-4e15-9326-2560e22d73c1"
      },
      "source": [
        "3. Для каждого работодателя посчитайте количество регионов, в которых он публикует свои вакансии. Отсортируйте результат по убыванию количества.\n"
      ]
    },
    {
      "cell_type": "code",
      "execution_count": 1340,
      "id": "6271f8ad-bd2e-4196-ae4a-5b39c4c1010e",
      "metadata": {
        "id": "6271f8ad-bd2e-4196-ae4a-5b39c4c1010e"
      },
      "outputs": [],
      "source": [
        "# текст запроса\n",
        "query_5_3 = f\"\"\"\n",
        "SELECT             \n",
        "    emp.name AS employer_name,\n",
        "    COUNT(DISTINCT vac.area_id) AS cnt\n",
        "FROM vacancies AS vac \n",
        "    JOIN employers AS emp ON vac.employer_id = emp.id                   \n",
        "GROUP BY emp.name\n",
        "ORDER by cnt DESC          \n",
        "                                            \n",
        "\"\"\""
      ]
    },
    {
      "cell_type": "code",
      "execution_count": 1341,
      "id": "1EIvX3HasH4F",
      "metadata": {
        "id": "1EIvX3HasH4F"
      },
      "outputs": [
        {
          "name": "stderr",
          "output_type": "stream",
          "text": [
            "D:\\Temp\\ipykernel_23264\\60920242.py:2: UserWarning: pandas only supports SQLAlchemy connectable (engine/connection) or database string URI or sqlite3 DBAPI2 connection. Other DBAPI2 objects are not tested. Please consider using SQLAlchemy.\n",
            "  vac_area_df = pd.read_sql_query(query_5_3, connection)\n"
          ]
        },
        {
          "data": {
            "text/html": [
              "<div>\n",
              "<style scoped>\n",
              "    .dataframe tbody tr th:only-of-type {\n",
              "        vertical-align: middle;\n",
              "    }\n",
              "\n",
              "    .dataframe tbody tr th {\n",
              "        vertical-align: top;\n",
              "    }\n",
              "\n",
              "    .dataframe thead th {\n",
              "        text-align: right;\n",
              "    }\n",
              "</style>\n",
              "<table border=\"1\" class=\"dataframe\">\n",
              "  <thead>\n",
              "    <tr style=\"text-align: right;\">\n",
              "      <th></th>\n",
              "      <th>employer_name</th>\n",
              "      <th>vacancies_count</th>\n",
              "    </tr>\n",
              "  </thead>\n",
              "  <tbody>\n",
              "    <tr>\n",
              "      <th>0</th>\n",
              "      <td>Яндекс</td>\n",
              "      <td>181</td>\n",
              "    </tr>\n",
              "    <tr>\n",
              "      <th>1</th>\n",
              "      <td>Ростелеком</td>\n",
              "      <td>152</td>\n",
              "    </tr>\n",
              "    <tr>\n",
              "      <th>2</th>\n",
              "      <td>Спецремонт</td>\n",
              "      <td>116</td>\n",
              "    </tr>\n",
              "    <tr>\n",
              "      <th>3</th>\n",
              "      <td>Поляков Денис Иванович</td>\n",
              "      <td>88</td>\n",
              "    </tr>\n",
              "    <tr>\n",
              "      <th>4</th>\n",
              "      <td>ООО ЕФИН</td>\n",
              "      <td>71</td>\n",
              "    </tr>\n",
              "    <tr>\n",
              "      <th>5</th>\n",
              "      <td>Совкомбанк</td>\n",
              "      <td>63</td>\n",
              "    </tr>\n",
              "    <tr>\n",
              "      <th>6</th>\n",
              "      <td>МТС</td>\n",
              "      <td>55</td>\n",
              "    </tr>\n",
              "    <tr>\n",
              "      <th>7</th>\n",
              "      <td>ЭФКО, Управляющая компания</td>\n",
              "      <td>49</td>\n",
              "    </tr>\n",
              "    <tr>\n",
              "      <th>8</th>\n",
              "      <td>Почта России</td>\n",
              "      <td>48</td>\n",
              "    </tr>\n",
              "    <tr>\n",
              "      <th>9</th>\n",
              "      <td>КРОН</td>\n",
              "      <td>48</td>\n",
              "    </tr>\n",
              "    <tr>\n",
              "      <th>10</th>\n",
              "      <td>ИК СИБИНТЕК</td>\n",
              "      <td>46</td>\n",
              "    </tr>\n",
              "    <tr>\n",
              "      <th>11</th>\n",
              "      <td>MCORE</td>\n",
              "      <td>46</td>\n",
              "    </tr>\n",
              "    <tr>\n",
              "      <th>12</th>\n",
              "      <td>Сбербанк-Сервис</td>\n",
              "      <td>45</td>\n",
              "    </tr>\n",
              "    <tr>\n",
              "      <th>13</th>\n",
              "      <td>ANCOR</td>\n",
              "      <td>44</td>\n",
              "    </tr>\n",
              "    <tr>\n",
              "      <th>14</th>\n",
              "      <td>Тинькофф</td>\n",
              "      <td>43</td>\n",
              "    </tr>\n",
              "    <tr>\n",
              "      <th>15</th>\n",
              "      <td>Первый Бит</td>\n",
              "      <td>43</td>\n",
              "    </tr>\n",
              "    <tr>\n",
              "      <th>16</th>\n",
              "      <td>АЛНАС</td>\n",
              "      <td>41</td>\n",
              "    </tr>\n",
              "    <tr>\n",
              "      <th>17</th>\n",
              "      <td>Ozon</td>\n",
              "      <td>36</td>\n",
              "    </tr>\n",
              "    <tr>\n",
              "      <th>18</th>\n",
              "      <td>IBS</td>\n",
              "      <td>36</td>\n",
              "    </tr>\n",
              "    <tr>\n",
              "      <th>19</th>\n",
              "      <td>Авито</td>\n",
              "      <td>35</td>\n",
              "    </tr>\n",
              "  </tbody>\n",
              "</table>\n",
              "</div>"
            ],
            "text/plain": [
              "                 employer_name  vacancies_count\n",
              "0                       Яндекс              181\n",
              "1                   Ростелеком              152\n",
              "2                   Спецремонт              116\n",
              "3       Поляков Денис Иванович               88\n",
              "4                    ООО ЕФИН                71\n",
              "5                   Совкомбанк               63\n",
              "6                          МТС               55\n",
              "7   ЭФКО, Управляющая компания               49\n",
              "8                 Почта России               48\n",
              "9                         КРОН               48\n",
              "10                 ИК СИБИНТЕК               46\n",
              "11                       MCORE               46\n",
              "12             Сбербанк-Сервис               45\n",
              "13                       ANCOR               44\n",
              "14                    Тинькофф               43\n",
              "15                  Первый Бит               43\n",
              "16                       АЛНАС               41\n",
              "17                        Ozon               36\n",
              "18                         IBS               36\n",
              "19                       Авито               35"
            ]
          },
          "execution_count": 1341,
          "metadata": {},
          "output_type": "execute_result"
        }
      ],
      "source": [
        "# результат запроса\n",
        "vac_area_df = pd.read_sql_query(query_5_3, connection)\n",
        "vac_area_df.rename(columns={'cnt': 'vacancies_count'}, inplace=True)\n",
        "vac_area_df.head(20)"
      ]
    },
    {
      "cell_type": "markdown",
      "id": "eab2206d-d95b-468b-8e5f-34381abf0ce7",
      "metadata": {
        "id": "eab2206d-d95b-468b-8e5f-34381abf0ce7"
      },
      "source": [
        "4. Напишите запрос для подсчёта количества работодателей, у которых не указана сфера деятельности. "
      ]
    },
    {
      "cell_type": "code",
      "execution_count": 1342,
      "id": "80defb23-bfb1-4a18-8be6-bf36aa7165d5",
      "metadata": {
        "id": "80defb23-bfb1-4a18-8be6-bf36aa7165d5"
      },
      "outputs": [],
      "source": [
        "# текст запроса\n",
        "query_5_4 = f\"\"\"\n",
        "SELECT COUNT(DISTINCT emp.id) AS employers_without_cnt                     \n",
        "FROM employers AS emp \n",
        "    LEFT JOIN employers_industries AS ei ON emp.id = ei.employer_id \n",
        "    LEFT JOIN industries AS ind ON ei.industry_id = ind.id \n",
        "WHERE ind.name IS NULL                                                                                    \n",
        "\"\"\""
      ]
    },
    {
      "cell_type": "code",
      "execution_count": 1343,
      "id": "Dp_yCx6ysQSu",
      "metadata": {
        "id": "Dp_yCx6ysQSu"
      },
      "outputs": [
        {
          "name": "stderr",
          "output_type": "stream",
          "text": [
            "D:\\Temp\\ipykernel_23264\\2446699455.py:2: UserWarning: pandas only supports SQLAlchemy connectable (engine/connection) or database string URI or sqlite3 DBAPI2 connection. Other DBAPI2 objects are not tested. Please consider using SQLAlchemy.\n",
            "  employers_industries_not_verify_df = pd.read_sql_query(query_5_4, connection)\n"
          ]
        },
        {
          "data": {
            "text/html": [
              "<div>\n",
              "<style scoped>\n",
              "    .dataframe tbody tr th:only-of-type {\n",
              "        vertical-align: middle;\n",
              "    }\n",
              "\n",
              "    .dataframe tbody tr th {\n",
              "        vertical-align: top;\n",
              "    }\n",
              "\n",
              "    .dataframe thead th {\n",
              "        text-align: right;\n",
              "    }\n",
              "</style>\n",
              "<table border=\"1\" class=\"dataframe\">\n",
              "  <thead>\n",
              "    <tr style=\"text-align: right;\">\n",
              "      <th></th>\n",
              "      <th>employers_without_cnt</th>\n",
              "    </tr>\n",
              "  </thead>\n",
              "  <tbody>\n",
              "    <tr>\n",
              "      <th>0</th>\n",
              "      <td>8419</td>\n",
              "    </tr>\n",
              "  </tbody>\n",
              "</table>\n",
              "</div>"
            ],
            "text/plain": [
              "   employers_without_cnt\n",
              "0                   8419"
            ]
          },
          "execution_count": 1343,
          "metadata": {},
          "output_type": "execute_result"
        }
      ],
      "source": [
        "# результат запроса\n",
        "employers_industries_not_verify_df = pd.read_sql_query(query_5_4, connection)\n",
        "employers_industries_not_verify_df"
      ]
    },
    {
      "cell_type": "markdown",
      "id": "0112af31-f6b0-4e3b-82ab-71296e752e5e",
      "metadata": {
        "id": "0112af31-f6b0-4e3b-82ab-71296e752e5e"
      },
      "source": [
        "5. Напишите запрос, чтобы узнать название компании, находящейся на третьем месте в алфавитном списке (по названию) компаний, у которых указано четыре сферы деятельности. "
      ]
    },
    {
      "cell_type": "code",
      "execution_count": 1344,
      "id": "973b0cfc-a972-470a-8b4a-68744ef220c4",
      "metadata": {
        "id": "973b0cfc-a972-470a-8b4a-68744ef220c4"
      },
      "outputs": [],
      "source": [
        "# текст запроса\n",
        "query_5_5 = f\"\"\"\n",
        "SELECT            \n",
        "    emp.name AS employer_name,\n",
        "    COUNT(emp.id) AS cnt\n",
        "FROM employers AS emp \n",
        "    LEFT JOIN employers_industries AS ei ON emp.id = ei.employer_id \n",
        "    LEFT JOIN industries AS ind ON ei.industry_id = ind.id \n",
        "WHERE ind.name IS NOT NULL \n",
        "GROUP BY emp.name \n",
        "HAVING COUNT(emp.id) = 4\n",
        "ORDER BY emp.name\n",
        "OFFSET 2\n",
        "LIMIT 1                                                                                                         \n",
        "\"\"\""
      ]
    },
    {
      "cell_type": "code",
      "execution_count": 1345,
      "id": "xsPtpp8EsaED",
      "metadata": {
        "id": "xsPtpp8EsaED"
      },
      "outputs": [
        {
          "name": "stderr",
          "output_type": "stream",
          "text": [
            "D:\\Temp\\ipykernel_23264\\1535529697.py:2: UserWarning: pandas only supports SQLAlchemy connectable (engine/connection) or database string URI or sqlite3 DBAPI2 connection. Other DBAPI2 objects are not tested. Please consider using SQLAlchemy.\n",
            "  employers_industries_verify_df = pd.read_sql_query(query_5_5, connection)\n"
          ]
        },
        {
          "data": {
            "text/html": [
              "<div>\n",
              "<style scoped>\n",
              "    .dataframe tbody tr th:only-of-type {\n",
              "        vertical-align: middle;\n",
              "    }\n",
              "\n",
              "    .dataframe tbody tr th {\n",
              "        vertical-align: top;\n",
              "    }\n",
              "\n",
              "    .dataframe thead th {\n",
              "        text-align: right;\n",
              "    }\n",
              "</style>\n",
              "<table border=\"1\" class=\"dataframe\">\n",
              "  <thead>\n",
              "    <tr style=\"text-align: right;\">\n",
              "      <th></th>\n",
              "      <th>employer_name</th>\n",
              "      <th>cnt</th>\n",
              "    </tr>\n",
              "  </thead>\n",
              "  <tbody>\n",
              "    <tr>\n",
              "      <th>0</th>\n",
              "      <td>2ГИС</td>\n",
              "      <td>4</td>\n",
              "    </tr>\n",
              "  </tbody>\n",
              "</table>\n",
              "</div>"
            ],
            "text/plain": [
              "  employer_name  cnt\n",
              "0          2ГИС    4"
            ]
          },
          "execution_count": 1345,
          "metadata": {},
          "output_type": "execute_result"
        }
      ],
      "source": [
        "# результат запроса\n",
        "employers_industries_verify_df = pd.read_sql_query(query_5_5, connection)\n",
        "employers_industries_verify_df"
      ]
    },
    {
      "cell_type": "markdown",
      "id": "3bfcfdaf-755d-4d2b-8ed8-326201dc07ab",
      "metadata": {
        "id": "3bfcfdaf-755d-4d2b-8ed8-326201dc07ab"
      },
      "source": [
        "6. С помощью запроса выясните, у какого количества работодателей в качестве сферы деятельности указана Разработка программного обеспечения.\n"
      ]
    },
    {
      "cell_type": "code",
      "execution_count": 1346,
      "id": "ad3f270f-2991-47eb-929b-e8f88a55b0d1",
      "metadata": {
        "id": "ad3f270f-2991-47eb-929b-e8f88a55b0d1"
      },
      "outputs": [],
      "source": [
        "# текст запроса\n",
        "query_5_6 = f\"\"\"\n",
        "SELECT                     \n",
        "    COUNT(ind.id) AS cnt\n",
        "FROM employers AS emp \n",
        "    LEFT JOIN employers_industries AS ei ON emp.id = ei.employer_id \n",
        "    LEFT JOIN industries AS ind ON ei.industry_id = ind.id \n",
        "WHERE ind.name = 'Разработка программного обеспечения'                \n",
        "\"\"\""
      ]
    },
    {
      "cell_type": "code",
      "execution_count": 1347,
      "id": "H72qxWM0shPR",
      "metadata": {
        "id": "H72qxWM0shPR"
      },
      "outputs": [
        {
          "name": "stderr",
          "output_type": "stream",
          "text": [
            "D:\\Temp\\ipykernel_23264\\549338585.py:2: UserWarning: pandas only supports SQLAlchemy connectable (engine/connection) or database string URI or sqlite3 DBAPI2 connection. Other DBAPI2 objects are not tested. Please consider using SQLAlchemy.\n",
            "  employers_software_dev_df = pd.read_sql_query(query_5_6, connection)\n"
          ]
        },
        {
          "data": {
            "text/html": [
              "<div>\n",
              "<style scoped>\n",
              "    .dataframe tbody tr th:only-of-type {\n",
              "        vertical-align: middle;\n",
              "    }\n",
              "\n",
              "    .dataframe tbody tr th {\n",
              "        vertical-align: top;\n",
              "    }\n",
              "\n",
              "    .dataframe thead th {\n",
              "        text-align: right;\n",
              "    }\n",
              "</style>\n",
              "<table border=\"1\" class=\"dataframe\">\n",
              "  <thead>\n",
              "    <tr style=\"text-align: right;\">\n",
              "      <th></th>\n",
              "      <th>cnt</th>\n",
              "    </tr>\n",
              "  </thead>\n",
              "  <tbody>\n",
              "    <tr>\n",
              "      <th>0</th>\n",
              "      <td>3553</td>\n",
              "    </tr>\n",
              "  </tbody>\n",
              "</table>\n",
              "</div>"
            ],
            "text/plain": [
              "    cnt\n",
              "0  3553"
            ]
          },
          "execution_count": 1347,
          "metadata": {},
          "output_type": "execute_result"
        }
      ],
      "source": [
        "# результат запроса\n",
        "employers_software_dev_df = pd.read_sql_query(query_5_6, connection)\n",
        "\n",
        "employers_software_dev_df "
      ]
    },
    {
      "cell_type": "markdown",
      "id": "7b02bb86-0546-40fb-94a4-242f050a5c57",
      "metadata": {
        "id": "7b02bb86-0546-40fb-94a4-242f050a5c57"
      },
      "source": [
        "7. Для компании «Яндекс» выведите список регионов-миллионников, в которых представлены вакансии компании, вместе с количеством вакансий в этих регионах. Также добавьте строку Total с общим количеством вакансий компании. Результат отсортируйте по возрастанию количества.\n",
        "\n",
        "Список городов-милионников надо взять [отсюда](https://ru.wikipedia.org/wiki/%D0%93%D0%BE%D1%80%D0%BE%D0%B4%D0%B0-%D0%BC%D0%B8%D0%BB%D0%BB%D0%B8%D0%BE%D0%BD%D0%B5%D1%80%D1%8B_%D0%A0%D0%BE%D1%81%D1%81%D0%B8%D0%B8). \n",
        "\n",
        "Если возникнут трудности с этим задание посмотрите материалы модуля  PYTHON-17. Как получать данные из веб-источников и API. "
      ]
    },
    {
      "cell_type": "code",
      "execution_count": 1348,
      "id": "5a0e32a4-e68a-4365-8a39-2fe24c542c36",
      "metadata": {
        "id": "5a0e32a4-e68a-4365-8a39-2fe24c542c36"
      },
      "outputs": [
        {
          "name": "stderr",
          "output_type": "stream",
          "text": [
            "D:\\Temp\\ipykernel_23264\\1517350350.py:4: FutureWarning: Passing literal html to 'read_html' is deprecated and will be removed in a future version. To read from a literal string, wrap it in a 'StringIO' object.\n",
            "  tables = pd.read_html(requests.get(url).text)\n"
          ]
        }
      ],
      "source": [
        "# текст запроса\n",
        "# Скачиваем таблицы с википедии\n",
        "url = \"https://ru.wikipedia.org/wiki/Города-миллионеры_России\"\n",
        "tables = pd.read_html(requests.get(url).text)\n",
        "\n",
        "million_cities = tables[0][\"Город\"].tolist()\n",
        "million_cities = [city.split(\"[\")[0].strip() for city in million_cities]\n",
        "million_cities\n",
        "# для компании Яндекс выгружаем список городов из million_cities\n",
        "# c количеством вакансий в этих городах\n",
        "query_5_7 = f\"\"\"\n",
        "SELECT                     \n",
        "    a.name AS area_name,\n",
        "    COUNT(v.id) AS cnt\n",
        "FROM vacancies AS v\n",
        "    JOIN areas AS a ON v.area_id = a.id\n",
        "WHERE v.employer_id = (SELECT id FROM employers WHERE name = 'Яндекс')\n",
        "    AND a.name IN {tuple(million_cities)}\n",
        "GROUP BY v.area_id, a.name\n",
        "ORDER BY cnt DESC\n",
        "\"\"\""
      ]
    },
    {
      "cell_type": "code",
      "execution_count": 1349,
      "id": "ttPhiO1rsvPq",
      "metadata": {
        "id": "ttPhiO1rsvPq"
      },
      "outputs": [
        {
          "name": "stderr",
          "output_type": "stream",
          "text": [
            "D:\\Temp\\ipykernel_23264\\4055613090.py:3: UserWarning: pandas only supports SQLAlchemy connectable (engine/connection) or database string URI or sqlite3 DBAPI2 connection. Other DBAPI2 objects are not tested. Please consider using SQLAlchemy.\n",
            "  yandex_million_cities_df = pd.read_sql_query(query_5_7, connection)\n"
          ]
        },
        {
          "data": {
            "text/html": [
              "<div>\n",
              "<style scoped>\n",
              "    .dataframe tbody tr th:only-of-type {\n",
              "        vertical-align: middle;\n",
              "    }\n",
              "\n",
              "    .dataframe tbody tr th {\n",
              "        vertical-align: top;\n",
              "    }\n",
              "\n",
              "    .dataframe thead th {\n",
              "        text-align: right;\n",
              "    }\n",
              "</style>\n",
              "<table border=\"1\" class=\"dataframe\">\n",
              "  <thead>\n",
              "    <tr style=\"text-align: right;\">\n",
              "      <th></th>\n",
              "      <th>area_name</th>\n",
              "      <th>cnt</th>\n",
              "    </tr>\n",
              "  </thead>\n",
              "  <tbody>\n",
              "    <tr>\n",
              "      <th>0</th>\n",
              "      <td>Москва</td>\n",
              "      <td>54</td>\n",
              "    </tr>\n",
              "    <tr>\n",
              "      <th>1</th>\n",
              "      <td>Санкт-Петербург</td>\n",
              "      <td>42</td>\n",
              "    </tr>\n",
              "    <tr>\n",
              "      <th>2</th>\n",
              "      <td>Екатеринбург</td>\n",
              "      <td>39</td>\n",
              "    </tr>\n",
              "    <tr>\n",
              "      <th>3</th>\n",
              "      <td>Нижний Новгород</td>\n",
              "      <td>36</td>\n",
              "    </tr>\n",
              "    <tr>\n",
              "      <th>4</th>\n",
              "      <td>Новосибирск</td>\n",
              "      <td>35</td>\n",
              "    </tr>\n",
              "    <tr>\n",
              "      <th>5</th>\n",
              "      <td>Воронеж</td>\n",
              "      <td>32</td>\n",
              "    </tr>\n",
              "    <tr>\n",
              "      <th>6</th>\n",
              "      <td>Краснодар</td>\n",
              "      <td>30</td>\n",
              "    </tr>\n",
              "    <tr>\n",
              "      <th>7</th>\n",
              "      <td>Самара</td>\n",
              "      <td>26</td>\n",
              "    </tr>\n",
              "    <tr>\n",
              "      <th>8</th>\n",
              "      <td>Уфа</td>\n",
              "      <td>26</td>\n",
              "    </tr>\n",
              "    <tr>\n",
              "      <th>9</th>\n",
              "      <td>Казань</td>\n",
              "      <td>25</td>\n",
              "    </tr>\n",
              "    <tr>\n",
              "      <th>10</th>\n",
              "      <td>Пермь</td>\n",
              "      <td>25</td>\n",
              "    </tr>\n",
              "    <tr>\n",
              "      <th>11</th>\n",
              "      <td>Ростов-на-Дону</td>\n",
              "      <td>25</td>\n",
              "    </tr>\n",
              "    <tr>\n",
              "      <th>12</th>\n",
              "      <td>Волгоград</td>\n",
              "      <td>24</td>\n",
              "    </tr>\n",
              "    <tr>\n",
              "      <th>13</th>\n",
              "      <td>Красноярск</td>\n",
              "      <td>23</td>\n",
              "    </tr>\n",
              "    <tr>\n",
              "      <th>14</th>\n",
              "      <td>Челябинск</td>\n",
              "      <td>22</td>\n",
              "    </tr>\n",
              "    <tr>\n",
              "      <th>15</th>\n",
              "      <td>Омск</td>\n",
              "      <td>21</td>\n",
              "    </tr>\n",
              "    <tr>\n",
              "      <th>16</th>\n",
              "      <td>Total</td>\n",
              "      <td>485</td>\n",
              "    </tr>\n",
              "  </tbody>\n",
              "</table>\n",
              "</div>"
            ],
            "text/plain": [
              "          area_name  cnt\n",
              "0            Москва   54\n",
              "1   Санкт-Петербург   42\n",
              "2      Екатеринбург   39\n",
              "3   Нижний Новгород   36\n",
              "4       Новосибирск   35\n",
              "5           Воронеж   32\n",
              "6         Краснодар   30\n",
              "7            Самара   26\n",
              "8               Уфа   26\n",
              "9            Казань   25\n",
              "10            Пермь   25\n",
              "11   Ростов-на-Дону   25\n",
              "12        Волгоград   24\n",
              "13       Красноярск   23\n",
              "14        Челябинск   22\n",
              "15             Омск   21\n",
              "16            Total  485"
            ]
          },
          "execution_count": 1349,
          "metadata": {},
          "output_type": "execute_result"
        }
      ],
      "source": [
        "# результат запроса\n",
        "# Получаем данные по количеству вакансий Яндекса в городах-миллионниках\n",
        "yandex_million_cities_df = pd.read_sql_query(query_5_7, connection)\n",
        "\n",
        "# Добавляем строку Total с общим количеством вакансий\n",
        "total_row = pd.DataFrame(\n",
        "    {\"area_name\": [\"Total\"], \"cnt\": [yandex_million_cities_df[\"cnt\"].sum()]}\n",
        ")\n",
        "yandex_million_cities_df = pd.concat(\n",
        "    [yandex_million_cities_df, total_row], ignore_index=True\n",
        ")\n",
        "\n",
        "yandex_million_cities_df"
      ]
    },
    {
      "cell_type": "markdown",
      "id": "04966e40-3bc3-4dc8-9ba2-e80580ce3abc",
      "metadata": {
        "id": "04966e40-3bc3-4dc8-9ba2-e80580ce3abc"
      },
      "source": [
        "***"
      ]
    },
    {
      "cell_type": "markdown",
      "id": "902ff4a6",
      "metadata": {},
      "source": [
        "### *Bыводы по анализу работодателей*"
      ]
    },
    {
      "cell_type": "markdown",
      "id": "4ea5a52f",
      "metadata": {},
      "source": [
        "1. *Лидером по количетву вакансий является Яндекс, также в ТОП-15 входят крупнейшие компании банковской сферы, телекоммуникаций, добывающей (в первую очередь ТЭК), маркетплэйсы. Крупнные компании также широко представлены в лидерах по охвату регионов.\n",
        "Неожиданными в данном рейтинге оказались только 3 и 4 места.*\n",
        "2. *Крупные города милионники и столицы государств ожидаемо лидируют и по количесству предстваленных в них работодателей.*\n",
        "3. *К сожалениюю более 1/3 работодателей не указали свою сферу деятельности, что может в дальнейшем сделать невозможныи анализ по данному показателю или серьёзно его затруднит.*\n"
      ]
    },
    {
      "cell_type": "markdown",
      "id": "b1ef156a-efcb-49ce-bb23-90763e7f35b2",
      "metadata": {
        "id": "b1ef156a-efcb-49ce-bb23-90763e7f35b2",
        "tags": []
      },
      "source": [
        "# Юнит 6. Предметный анализ"
      ]
    },
    {
      "cell_type": "markdown",
      "id": "b9cd50a0-992d-4988-8463-2b2b1c4629b4",
      "metadata": {
        "id": "b9cd50a0-992d-4988-8463-2b2b1c4629b4"
      },
      "source": [
        "1. Сколько вакансий имеет отношение к данным?\n",
        "\n",
        "Считаем, что вакансия имеет отношение к данным, если в её названии содержатся слова 'data' или 'данн'.\n",
        "\n",
        "*Подсказка: Обратите внимание, что названия вакансий могут быть написаны в любом регистре.* \n"
      ]
    },
    {
      "cell_type": "code",
      "execution_count": 1350,
      "id": "54ab0e50-c0f1-47cc-a54b-bc5c8bc363f9",
      "metadata": {
        "id": "54ab0e50-c0f1-47cc-a54b-bc5c8bc363f9"
      },
      "outputs": [],
      "source": [
        "# текст запроса\n",
        "query_6_1 = f\"\"\"\n",
        "SELECT COUNT(*) data_vacancies_count\n",
        "FROM vacancies\n",
        "WHERE LOWER(name) LIKE '%data%' OR LOWER(name) LIKE '%данн%'\n",
        "\"\"\""
      ]
    },
    {
      "cell_type": "code",
      "execution_count": 1351,
      "id": "9F1meAqsuUjd",
      "metadata": {
        "id": "9F1meAqsuUjd"
      },
      "outputs": [
        {
          "name": "stderr",
          "output_type": "stream",
          "text": [
            "D:\\Temp\\ipykernel_23264\\1018682303.py:2: UserWarning: pandas only supports SQLAlchemy connectable (engine/connection) or database string URI or sqlite3 DBAPI2 connection. Other DBAPI2 objects are not tested. Please consider using SQLAlchemy.\n",
            "  data_vacancies_count_df = pd.read_sql_query(query_6_1, connection)\n"
          ]
        },
        {
          "data": {
            "text/html": [
              "<div>\n",
              "<style scoped>\n",
              "    .dataframe tbody tr th:only-of-type {\n",
              "        vertical-align: middle;\n",
              "    }\n",
              "\n",
              "    .dataframe tbody tr th {\n",
              "        vertical-align: top;\n",
              "    }\n",
              "\n",
              "    .dataframe thead th {\n",
              "        text-align: right;\n",
              "    }\n",
              "</style>\n",
              "<table border=\"1\" class=\"dataframe\">\n",
              "  <thead>\n",
              "    <tr style=\"text-align: right;\">\n",
              "      <th></th>\n",
              "      <th>data_vacancies_count</th>\n",
              "    </tr>\n",
              "  </thead>\n",
              "  <tbody>\n",
              "    <tr>\n",
              "      <th>0</th>\n",
              "      <td>1771</td>\n",
              "    </tr>\n",
              "  </tbody>\n",
              "</table>\n",
              "</div>"
            ],
            "text/plain": [
              "   data_vacancies_count\n",
              "0                  1771"
            ]
          },
          "execution_count": 1351,
          "metadata": {},
          "output_type": "execute_result"
        }
      ],
      "source": [
        "# результат запроса\n",
        "data_vacancies_count_df = pd.read_sql_query(query_6_1, connection)\n",
        "data_vacancies_count_df"
      ]
    },
    {
      "cell_type": "markdown",
      "id": "4dea20cb-a36b-474a-a0b9-e08e8e3857a5",
      "metadata": {
        "id": "4dea20cb-a36b-474a-a0b9-e08e8e3857a5"
      },
      "source": [
        "2. Сколько есть подходящих вакансий для начинающего дата-сайентиста? \n",
        "Будем считать вакансиями для дата-сайентистов такие, в названии которых есть хотя бы одно из следующих сочетаний:\n",
        "* 'data scientist'\n",
        "* 'data science'\n",
        "* 'исследователь данных'\n",
        "* 'ML' (здесь не нужно брать вакансии по HTML)\n",
        "* 'machine learning'\n",
        "* 'машинн%обучен%'\n",
        "\n",
        "** В следующих заданиях мы продолжим работать с вакансиями по этому условию.*\n",
        "\n",
        "Считаем вакансиями для специалистов уровня Junior следующие:\n",
        "* в названии есть слово 'junior' *или*\n",
        "* требуемый опыт — Нет опыта *или*\n",
        "* тип трудоустройства — Стажировка.\n",
        " "
      ]
    },
    {
      "cell_type": "code",
      "execution_count": 1352,
      "id": "9c61b3c0-bb66-46c9-ae1e-81d3f5752b4a",
      "metadata": {
        "id": "9c61b3c0-bb66-46c9-ae1e-81d3f5752b4a"
      },
      "outputs": [
        {
          "name": "stderr",
          "output_type": "stream",
          "text": [
            "D:\\Temp\\ipykernel_23264\\2443344295.py:32: UserWarning: pandas only supports SQLAlchemy connectable (engine/connection) or database string URI or sqlite3 DBAPI2 connection. Other DBAPI2 objects are not tested. Please consider using SQLAlchemy.\n",
            "  ds_vacancies_count_df = pd.read_sql_query(query_6_2_ds, connection)\n"
          ]
        },
        {
          "data": {
            "text/html": [
              "<div>\n",
              "<style scoped>\n",
              "    .dataframe tbody tr th:only-of-type {\n",
              "        vertical-align: middle;\n",
              "    }\n",
              "\n",
              "    .dataframe tbody tr th {\n",
              "        vertical-align: top;\n",
              "    }\n",
              "\n",
              "    .dataframe thead th {\n",
              "        text-align: right;\n",
              "    }\n",
              "</style>\n",
              "<table border=\"1\" class=\"dataframe\">\n",
              "  <thead>\n",
              "    <tr style=\"text-align: right;\">\n",
              "      <th></th>\n",
              "      <th>ds_vacancies_count</th>\n",
              "    </tr>\n",
              "  </thead>\n",
              "  <tbody>\n",
              "    <tr>\n",
              "      <th>0</th>\n",
              "      <td>480</td>\n",
              "    </tr>\n",
              "  </tbody>\n",
              "</table>\n",
              "</div>"
            ],
            "text/plain": [
              "   ds_vacancies_count\n",
              "0                 480"
            ]
          },
          "execution_count": 1352,
          "metadata": {},
          "output_type": "execute_result"
        }
      ],
      "source": [
        "# текст запроса для DS junior вакансий\n",
        "query_6_2 = f\"\"\"\n",
        "SELECT COUNT(*) AS junior_ds_vacancies_count\n",
        "FROM vacancies\n",
        "WHERE (\n",
        "    LOWER(name) LIKE '%data scientist%' OR\n",
        "    LOWER(name) LIKE '%data science%' OR\n",
        "    LOWER(name) LIKE '%исследователь данных%' OR\n",
        "    (name LIKE '%ML%' AND name NOT LIKE '%HTML%') OR\n",
        "    LOWER(name) LIKE '%machine learning%' OR\n",
        "    (LOWER(name) LIKE '%машинн%' AND LOWER(name) LIKE '%обучен%')\n",
        ")\n",
        "AND (\n",
        "    LOWER(name) LIKE '%junior%' OR\n",
        "    experience = 'Нет опыта' OR\n",
        "    employment = 'Стажировка'\n",
        ")\n",
        "\"\"\"\n",
        "# текст запроса для DS вакансий\n",
        "query_6_2_ds = f\"\"\"\n",
        "SELECT COUNT(*) AS ds_vacancies_count\n",
        "FROM vacancies\n",
        "WHERE (\n",
        "    LOWER(name) LIKE '%data scientist%' OR\n",
        "    LOWER(name) LIKE '%data science%' OR\n",
        "    LOWER(name) LIKE '%исследователь данных%' OR\n",
        "    (name LIKE '%ML%' AND name NOT LIKE '%HTML%') OR\n",
        "    LOWER(name) LIKE '%machine learning%' OR\n",
        "    (LOWER(name) LIKE '%машинн%' AND LOWER(name) LIKE '%обучен%')\n",
        ")\n",
        "\"\"\"\n",
        "ds_vacancies_count_df = pd.read_sql_query(query_6_2_ds, connection)\n",
        "ds_vacancies_count_df"
      ]
    },
    {
      "cell_type": "code",
      "execution_count": 1353,
      "id": "ZNM-LLYuu1dj",
      "metadata": {
        "id": "ZNM-LLYuu1dj"
      },
      "outputs": [
        {
          "name": "stderr",
          "output_type": "stream",
          "text": [
            "D:\\Temp\\ipykernel_23264\\3920599332.py:2: UserWarning: pandas only supports SQLAlchemy connectable (engine/connection) or database string URI or sqlite3 DBAPI2 connection. Other DBAPI2 objects are not tested. Please consider using SQLAlchemy.\n",
            "  junior_ds_vacancies_count_df = pd.read_sql_query(query_6_2, connection)\n"
          ]
        },
        {
          "data": {
            "text/html": [
              "<div>\n",
              "<style scoped>\n",
              "    .dataframe tbody tr th:only-of-type {\n",
              "        vertical-align: middle;\n",
              "    }\n",
              "\n",
              "    .dataframe tbody tr th {\n",
              "        vertical-align: top;\n",
              "    }\n",
              "\n",
              "    .dataframe thead th {\n",
              "        text-align: right;\n",
              "    }\n",
              "</style>\n",
              "<table border=\"1\" class=\"dataframe\">\n",
              "  <thead>\n",
              "    <tr style=\"text-align: right;\">\n",
              "      <th></th>\n",
              "      <th>junior_ds_vacancies_count</th>\n",
              "    </tr>\n",
              "  </thead>\n",
              "  <tbody>\n",
              "    <tr>\n",
              "      <th>0</th>\n",
              "      <td>51</td>\n",
              "    </tr>\n",
              "  </tbody>\n",
              "</table>\n",
              "</div>"
            ],
            "text/plain": [
              "   junior_ds_vacancies_count\n",
              "0                         51"
            ]
          },
          "execution_count": 1353,
          "metadata": {},
          "output_type": "execute_result"
        }
      ],
      "source": [
        "# результат запроса\n",
        "junior_ds_vacancies_count_df = pd.read_sql_query(query_6_2, connection)\n",
        "junior_ds_vacancies_count_df"
      ]
    },
    {
      "cell_type": "markdown",
      "id": "eedceb80-c5ca-480e-b27a-278dfb8b4438",
      "metadata": {
        "id": "eedceb80-c5ca-480e-b27a-278dfb8b4438"
      },
      "source": [
        "3. Сколько есть вакансий для DS, в которых в качестве ключевого навыка указан SQL или postgres?\n",
        "\n",
        "** Критерии для отнесения вакансии к DS указаны в предыдущем задании.*"
      ]
    },
    {
      "cell_type": "code",
      "execution_count": 1354,
      "id": "69621713-0cc5-4f1b-a1d7-bb144fa6148c",
      "metadata": {
        "id": "69621713-0cc5-4f1b-a1d7-bb144fa6148c"
      },
      "outputs": [],
      "source": [
        "# текст запроса\n",
        "query_6_3 = f\"\"\"\n",
        "SELECT COUNT(*) AS ds_sql_postgres_count\n",
        "FROM vacancies v\n",
        "--JOIN key_skills ks ON v.id = ks.vacancy_id\n",
        "WHERE (\n",
        "    LOWER(v.name) LIKE '%data scientist%' OR\n",
        "    LOWER(v.name) LIKE '%data science%' OR\n",
        "    LOWER(v.name) LIKE '%исследователь данных%' OR\n",
        "    (name LIKE '%ML%' AND name NOT LIKE '%HTML%') OR\n",
        "    LOWER(v.name) LIKE '%machine learning%' OR\n",
        "    (LOWER(v.name) LIKE '%машинн%' AND LOWER(v.name) LIKE '%обучен%')\n",
        ")\n",
        "AND (\n",
        "    LOWER(v.key_skills) LIKE '%sql%' OR\n",
        "    LOWER(v.key_skills) LIKE '%postgres%'\n",
        ")\n",
        "\"\"\""
      ]
    },
    {
      "cell_type": "code",
      "execution_count": 1355,
      "id": "alA8WEAAvGdf",
      "metadata": {
        "id": "alA8WEAAvGdf"
      },
      "outputs": [
        {
          "name": "stderr",
          "output_type": "stream",
          "text": [
            "D:\\Temp\\ipykernel_23264\\695317930.py:2: UserWarning: pandas only supports SQLAlchemy connectable (engine/connection) or database string URI or sqlite3 DBAPI2 connection. Other DBAPI2 objects are not tested. Please consider using SQLAlchemy.\n",
            "  sql_postgres_count_df = pd.read_sql_query(query_6_3, connection)\n"
          ]
        },
        {
          "data": {
            "text/html": [
              "<div>\n",
              "<style scoped>\n",
              "    .dataframe tbody tr th:only-of-type {\n",
              "        vertical-align: middle;\n",
              "    }\n",
              "\n",
              "    .dataframe tbody tr th {\n",
              "        vertical-align: top;\n",
              "    }\n",
              "\n",
              "    .dataframe thead th {\n",
              "        text-align: right;\n",
              "    }\n",
              "</style>\n",
              "<table border=\"1\" class=\"dataframe\">\n",
              "  <thead>\n",
              "    <tr style=\"text-align: right;\">\n",
              "      <th></th>\n",
              "      <th>ds_sql_postgres_count</th>\n",
              "    </tr>\n",
              "  </thead>\n",
              "  <tbody>\n",
              "    <tr>\n",
              "      <th>0</th>\n",
              "      <td>201</td>\n",
              "    </tr>\n",
              "  </tbody>\n",
              "</table>\n",
              "</div>"
            ],
            "text/plain": [
              "   ds_sql_postgres_count\n",
              "0                    201"
            ]
          },
          "execution_count": 1355,
          "metadata": {},
          "output_type": "execute_result"
        }
      ],
      "source": [
        "# результат запроса\n",
        "sql_postgres_count_df = pd.read_sql_query(query_6_3, connection)\n",
        "sql_postgres_count_df"
      ]
    },
    {
      "cell_type": "markdown",
      "id": "1be1e9c6-37cf-4a5f-bfeb-04cab799dc80",
      "metadata": {
        "id": "1be1e9c6-37cf-4a5f-bfeb-04cab799dc80"
      },
      "source": [
        "4. Проверьте, насколько популярен Python в требованиях работодателей к DS.Для этого вычислите количество вакансий, в которых в качестве ключевого навыка указан Python.\n",
        "\n",
        "** Это можно сделать помощью запроса, аналогичного предыдущему.*"
      ]
    },
    {
      "cell_type": "code",
      "execution_count": 1356,
      "id": "0036a355-9ccf-4564-8b01-73d8194297e7",
      "metadata": {
        "id": "0036a355-9ccf-4564-8b01-73d8194297e7"
      },
      "outputs": [],
      "source": [
        "# текст запроса\n",
        "query_6_4 = f\"\"\"\n",
        "SELECT COUNT(*) AS ds_python_count\n",
        "FROM vacancies v\n",
        "--JOIN key_skills ks ON v.id = ks.vacancy_id\n",
        "WHERE (\n",
        "    LOWER(v.name) LIKE '%data scientist%' OR\n",
        "    LOWER(v.name) LIKE '%data science%' OR\n",
        "    LOWER(v.name) LIKE '%исследователь данных%' OR\n",
        "    (name LIKE '%ML%' AND name NOT LIKE '%HTML%') OR\n",
        "    LOWER(v.name) LIKE '%machine learning%' OR\n",
        "    (LOWER(v.name) LIKE '%машинн%' AND LOWER(v.name) LIKE '%обучен%')\n",
        ")\n",
        "AND \n",
        "    LOWER(v.key_skills) LIKE '%python%'\n",
        "\"\"\""
      ]
    },
    {
      "cell_type": "code",
      "execution_count": 1357,
      "id": "1i-5WyucvQ6v",
      "metadata": {
        "id": "1i-5WyucvQ6v"
      },
      "outputs": [
        {
          "name": "stderr",
          "output_type": "stream",
          "text": [
            "D:\\Temp\\ipykernel_23264\\1759156160.py:2: UserWarning: pandas only supports SQLAlchemy connectable (engine/connection) or database string URI or sqlite3 DBAPI2 connection. Other DBAPI2 objects are not tested. Please consider using SQLAlchemy.\n",
            "  ds_python_count_df = pd.read_sql_query(query_6_4, connection)\n"
          ]
        },
        {
          "data": {
            "text/html": [
              "<div>\n",
              "<style scoped>\n",
              "    .dataframe tbody tr th:only-of-type {\n",
              "        vertical-align: middle;\n",
              "    }\n",
              "\n",
              "    .dataframe tbody tr th {\n",
              "        vertical-align: top;\n",
              "    }\n",
              "\n",
              "    .dataframe thead th {\n",
              "        text-align: right;\n",
              "    }\n",
              "</style>\n",
              "<table border=\"1\" class=\"dataframe\">\n",
              "  <thead>\n",
              "    <tr style=\"text-align: right;\">\n",
              "      <th></th>\n",
              "      <th>ds_python_count</th>\n",
              "    </tr>\n",
              "  </thead>\n",
              "  <tbody>\n",
              "    <tr>\n",
              "      <th>0</th>\n",
              "      <td>351</td>\n",
              "    </tr>\n",
              "  </tbody>\n",
              "</table>\n",
              "</div>"
            ],
            "text/plain": [
              "   ds_python_count\n",
              "0              351"
            ]
          },
          "execution_count": 1357,
          "metadata": {},
          "output_type": "execute_result"
        }
      ],
      "source": [
        "# результат запроса\n",
        "ds_python_count_df = pd.read_sql_query(query_6_4, connection)\n",
        "ds_python_count_df"
      ]
    },
    {
      "cell_type": "markdown",
      "id": "ec3c8db7-fa21-4a41-a994-1af63742a642",
      "metadata": {
        "id": "ec3c8db7-fa21-4a41-a994-1af63742a642"
      },
      "source": [
        "5. Сколько ключевых навыков в среднем указывают в вакансиях для DS?\n",
        "\n",
        "Ответ округлите до двух знаков после точки-разделителя."
      ]
    },
    {
      "cell_type": "code",
      "execution_count": 1358,
      "id": "949132bc-d5b6-4611-8218-0b9a504d74f4",
      "metadata": {
        "id": "949132bc-d5b6-4611-8218-0b9a504d74f4"
      },
      "outputs": [],
      "source": [
        "# текст запроса вариант 1 с послдующим расчетом процента в Python\n",
        "query_6_5 = f\"\"\"\n",
        "SELECT \n",
        "    v.key_skills AS key_skills\n",
        "FROM vacancies v\n",
        "WHERE LOWER(v.name) LIKE '%data scientist%' OR  \n",
        "    LOWER(v.name) LIKE '%data science%' OR\n",
        "    LOWER(v.name) LIKE '%исследователь данных%' OR\n",
        "    (name LIKE '%ML%' AND name NOT LIKE '%HTML%')  OR\n",
        "    LOWER(v.name) LIKE '%machine learning%' OR\n",
        "    (LOWER(v.name) LIKE '%машинн%' AND LOWER(v.name) LIKE '%обучен%')\n",
        "    AND v.key_skills IS NOT NULL\n",
        "\n",
        "\"\"\""
      ]
    },
    {
      "cell_type": "code",
      "execution_count": 1359,
      "id": "4e36de18",
      "metadata": {},
      "outputs": [
        {
          "name": "stderr",
          "output_type": "stream",
          "text": [
            "D:\\Temp\\ipykernel_23264\\2906504460.py:2: UserWarning: pandas only supports SQLAlchemy connectable (engine/connection) or database string URI or sqlite3 DBAPI2 connection. Other DBAPI2 objects are not tested. Please consider using SQLAlchemy.\n",
            "  key_skills_df = pd.read_sql_query(query_6_5, connection)\n"
          ]
        },
        {
          "name": "stdout",
          "output_type": "stream",
          "text": [
            "Среднее количество ключевых навыков в вакансиях Data Scientist: 6.41\n"
          ]
        }
      ],
      "source": [
        "# результат запроса вариант 1\n",
        "key_skills_df = pd.read_sql_query(query_6_5, connection)\n",
        "\n",
        "# удалить строки с пустыми значениями в столбце key_skills\n",
        "key_skills_df = key_skills_df.dropna(subset=[\"key_skills\"])\n",
        "\n",
        "\n",
        "# Функция для подсчета слов в строке, разделяя по \\t\n",
        "def count_words(skills):\n",
        "    if pd.isna(skills):\n",
        "        return 0\n",
        "    return len(skills.split(\"\\t\"))\n",
        "\n",
        "\n",
        "key_skills_df[\"key_skills_count\"] = key_skills_df[\"key_skills\"].apply(count_words)\n",
        "\n",
        "# Считаем среднее количество ключевых навыков\n",
        "average_key_skills_count = key_skills_df[\"key_skills_count\"].mean()\n",
        "\n",
        "# Округляем до двух знаков после точки-разделителя\n",
        "average_key_skills_count = round(average_key_skills_count, 2)\n",
        "\n",
        "# Выводим результат\n",
        "print(\n",
        "    f\"Среднее количество ключевых навыков в вакансиях Data Scientist: {average_key_skills_count}\"\n",
        ")"
      ]
    },
    {
      "cell_type": "code",
      "execution_count": 1360,
      "id": "d6da24ef",
      "metadata": {},
      "outputs": [
        {
          "data": {
            "text/plain": [
              "<Figure size 1200x1000 with 0 Axes>"
            ]
          },
          "metadata": {},
          "output_type": "display_data"
        },
        {
          "data": {
            "image/png": "[encoded data removed]",
            "text/plain": [
              "<Figure size 640x480 with 1 Axes>"
            ]
          },
          "metadata": {},
          "output_type": "display_data"
        }
      ],
      "source": [
        "# Анализ ключевых навыков в вакансиях Data Scientist\n",
        "\n",
        "# Объединяем все значения key_skills в одну строку, разделяем по '\\t' и фильтруем пустые значения\n",
        "all_skills = key_skills_df['key_skills'].dropna().str.cat(sep='\\t').split('\\t')\n",
        "all_skills = [skill.strip() for skill in all_skills if skill.strip()]\n",
        "\n",
        "# Подсчитываем количество вхождений каждого навыка\n",
        "skills_counter = Counter(all_skills)\n",
        "\n",
        "# Преобразуем в DataFrame для удобства просмотра\n",
        "skills_count_df = (\n",
        "    pd.DataFrame(skills_counter.items(), columns=[\"skill\", \"count\"])\n",
        "    .sort_values(by=\"count\", ascending=False)\n",
        "    .reset_index(drop=True)\n",
        ")\n",
        "\n",
        "skills_count_df.head(20)  # Выводим топ-20 навыков\n",
        "\n",
        "# Построение графика топ-25 навыков\n",
        "plt.figure(figsize=(12, 10))\n",
        "skills_count_df.head(25).plot(kind='barh', x='skill', y='count', legend=False)\n",
        "plt.title('Топ-20 навыков в вакансиях Data Scientist')    \n",
        "plt.xlabel('Количество вхождений')\n",
        "plt.ylabel('Навыки')\n",
        "plt.gca().invert_yaxis()  # Инвертируем ось Y для лучшего отображения\n",
        "plt.show()"
      ]
    },
    {
      "cell_type": "code",
      "execution_count": 1361,
      "id": "29924c88",
      "metadata": {},
      "outputs": [
        {
          "name": "stderr",
          "output_type": "stream",
          "text": [
            "D:\\Temp\\ipykernel_23264\\1393156098.py:17: UserWarning: pandas only supports SQLAlchemy connectable (engine/connection) or database string URI or sqlite3 DBAPI2 connection. Other DBAPI2 objects are not tested. Please consider using SQLAlchemy.\n",
            "  avg_key_skills_count_df = pd.read_sql_query(query_6_5_sql, connection)\n"
          ]
        },
        {
          "data": {
            "text/html": [
              "<div>\n",
              "<style scoped>\n",
              "    .dataframe tbody tr th:only-of-type {\n",
              "        vertical-align: middle;\n",
              "    }\n",
              "\n",
              "    .dataframe tbody tr th {\n",
              "        vertical-align: top;\n",
              "    }\n",
              "\n",
              "    .dataframe thead th {\n",
              "        text-align: right;\n",
              "    }\n",
              "</style>\n",
              "<table border=\"1\" class=\"dataframe\">\n",
              "  <thead>\n",
              "    <tr style=\"text-align: right;\">\n",
              "      <th></th>\n",
              "      <th>avg_key_skills_count</th>\n",
              "    </tr>\n",
              "  </thead>\n",
              "  <tbody>\n",
              "    <tr>\n",
              "      <th>0</th>\n",
              "      <td>6.41</td>\n",
              "    </tr>\n",
              "  </tbody>\n",
              "</table>\n",
              "</div>"
            ],
            "text/plain": [
              "   avg_key_skills_count\n",
              "0                  6.41"
            ]
          },
          "execution_count": 1361,
          "metadata": {},
          "output_type": "execute_result"
        }
      ],
      "source": [
        "# текст запроса вариант 2 с использованием SQL\n",
        "query_6_5_sql = f\"\"\"\n",
        "SELECT \n",
        "    ROUND(AVG(LENGTH(key_skills) - LENGTH(REPLACE(key_skills, CHR(9), '')) + 1), 2) AS avg_key_skills_count\n",
        "FROM vacancies\n",
        "WHERE (\n",
        "    LOWER(name) LIKE '%data scientist%' OR  \n",
        "    LOWER(name) LIKE '%data science%' OR\n",
        "    LOWER(name) LIKE '%исследователь данных%' OR\n",
        "    (name LIKE '%ML%' AND name NOT LIKE '%HTML%')  OR\n",
        "    LOWER(name) LIKE '%machine learning%' OR\n",
        "    (LOWER(name) LIKE '%машинн%' AND LOWER(name) LIKE '%обучен%')\n",
        ")\n",
        "AND key_skills IS NOT NULL\n",
        "\"\"\"\n",
        "# Результат запроса\n",
        "avg_key_skills_count_df = pd.read_sql_query(query_6_5_sql, connection)\n",
        "avg_key_skills_count_df"
      ]
    },
    {
      "cell_type": "markdown",
      "id": "1041c17a-ca8f-4543-a0ca-32778914fb00",
      "metadata": {
        "id": "1041c17a-ca8f-4543-a0ca-32778914fb00"
      },
      "source": [
        "6. Напишите запрос, позволяющий вычислить, какую зарплату для DS в **среднем** указывают для каждого типа требуемого опыта (уникальное значение из поля *experience*). \n",
        "\n",
        "При решении задачи примите во внимание следующее:\n",
        "1. Рассматриваем только вакансии, у которых заполнено хотя бы одно из двух полей с зарплатой.\n",
        "2. Если заполнены оба поля с зарплатой, то считаем зарплату по каждой вакансии как сумму двух полей, делённую на 2. Если заполнено только одно из полей, то его и считаем зарплатой по вакансии.\n",
        "3. Если в расчётах участвует null, в результате он тоже даст null (посмотрите, что возвращает запрос select 1 + null). Чтобы избежать этой ситуацию, мы воспользуемся функцией [coalesce](https://postgrespro.ru/docs/postgresql/9.5/functions-conditional#functions-coalesce-nvl-ifnull), которая заменит null на значение, которое мы передадим. Например, посмотрите, что возвращает запрос `select 1 + coalesce(null, 0)`\n",
        "\n",
        "Выясните, на какую зарплату в среднем может рассчитывать дата-сайентист с опытом работы от 3 до 6 лет. Результат округлите до целого числа. "
      ]
    },
    {
      "cell_type": "code",
      "execution_count": 1362,
      "id": "6a743d39-5204-48d3-8271-b9f88e68d40e",
      "metadata": {
        "id": "6a743d39-5204-48d3-8271-b9f88e68d40e"
      },
      "outputs": [],
      "source": [
        "# текст запроса\n",
        "\n",
        "query_6_6_1 = f\"\"\"\n",
        "SELECT \n",
        "    experience,\n",
        "    ROUND(AVG(\n",
        "        CASE \n",
        "            WHEN salary_from IS NOT NULL AND salary_to IS NOT NULL THEN (salary_from + salary_to) / 2.0\n",
        "            WHEN salary_from IS NOT NULL THEN salary_from\n",
        "            WHEN salary_to IS NOT NULL THEN salary_to\n",
        "        END\n",
        "    )) AS avg_salary\n",
        "FROM vacancies\n",
        "WHERE (\n",
        "    LOWER(name) LIKE '%data scientist%' OR\n",
        "    LOWER(name) LIKE '%data science%' OR\n",
        "    LOWER(name) LIKE '%исследователь данных%' OR\n",
        "    (name LIKE '%ML%' AND name NOT LIKE '%HTML%') OR\n",
        "    LOWER(name) LIKE '%machine learning%' OR\n",
        "    (LOWER(name) LIKE '%машинн%' AND LOWER(name) LIKE '%обучен%')  \n",
        ")\n",
        "AND (salary_from IS NOT NULL OR salary_to IS NOT NULL)\n",
        "GROUP BY experience\n",
        "ORDER BY avg_salary DESC\n",
        "\"\"\""
      ]
    },
    {
      "cell_type": "code",
      "execution_count": 1363,
      "id": "aRIJ0mZEwU1_",
      "metadata": {
        "id": "aRIJ0mZEwU1_"
      },
      "outputs": [
        {
          "name": "stderr",
          "output_type": "stream",
          "text": [
            "D:\\Temp\\ipykernel_23264\\67075217.py:2: UserWarning: pandas only supports SQLAlchemy connectable (engine/connection) or database string URI or sqlite3 DBAPI2 connection. Other DBAPI2 objects are not tested. Please consider using SQLAlchemy.\n",
            "  exp_count_df = pd.read_sql_query(query_6_6_1, connection)\n"
          ]
        },
        {
          "data": {
            "text/html": [
              "<div>\n",
              "<style scoped>\n",
              "    .dataframe tbody tr th:only-of-type {\n",
              "        vertical-align: middle;\n",
              "    }\n",
              "\n",
              "    .dataframe tbody tr th {\n",
              "        vertical-align: top;\n",
              "    }\n",
              "\n",
              "    .dataframe thead th {\n",
              "        text-align: right;\n",
              "    }\n",
              "</style>\n",
              "<table border=\"1\" class=\"dataframe\">\n",
              "  <thead>\n",
              "    <tr style=\"text-align: right;\">\n",
              "      <th></th>\n",
              "      <th>experience</th>\n",
              "      <th>avg_salary</th>\n",
              "    </tr>\n",
              "  </thead>\n",
              "  <tbody>\n",
              "    <tr>\n",
              "      <th>0</th>\n",
              "      <td>От 3 до 6 лет</td>\n",
              "      <td>243115.0</td>\n",
              "    </tr>\n",
              "    <tr>\n",
              "      <th>1</th>\n",
              "      <td>От 1 года до 3 лет</td>\n",
              "      <td>139675.0</td>\n",
              "    </tr>\n",
              "    <tr>\n",
              "      <th>2</th>\n",
              "      <td>Нет опыта</td>\n",
              "      <td>74643.0</td>\n",
              "    </tr>\n",
              "  </tbody>\n",
              "</table>\n",
              "</div>"
            ],
            "text/plain": [
              "           experience  avg_salary\n",
              "0       От 3 до 6 лет    243115.0\n",
              "1  От 1 года до 3 лет    139675.0\n",
              "2           Нет опыта     74643.0"
            ]
          },
          "execution_count": 1363,
          "metadata": {},
          "output_type": "execute_result"
        }
      ],
      "source": [
        "# результат запроса\n",
        "exp_count_df = pd.read_sql_query(query_6_6_1, connection)\n",
        "exp_count_df"
      ]
    },
    {
      "cell_type": "markdown",
      "id": "6a7892b4-4113-4746-adce-18aa2844f18e",
      "metadata": {
        "id": "6a7892b4-4113-4746-adce-18aa2844f18e"
      },
      "source": [
        "***"
      ]
    },
    {
      "cell_type": "markdown",
      "id": "6bc05ba0",
      "metadata": {},
      "source": [
        "### *Bыводы по предметному анализу*"
      ]
    },
    {
      "cell_type": "markdown",
      "id": "052dcac4",
      "metadata": {},
      "source": [
        "1. *По заданным параметрам поиска из общего пула вакансий специалистов для работы с данными насчитывается порядка 7,5 - 8%, а работающих в сфере DS ~2%*\n",
        "2. *Из 480 вакансий DS специалистов в качестве ключевых навыков SQL & Postgre указан в 201 случае, а Python в 351. Дополнительно проведённый анализ ключевых навыков показал, что это наиболее популярные позиции. Также в процессе дополнительной обработки удалось выяснить, что для данной категории специалистов уровень заполняемости атрибута \"key_skills\" существенно выше чем в среднем \"по больнице\" и приближается к 100%*\n",
        "3. *По данному датасету наблюдается явная положительная зависимость уровня зарплаты DS специалистов от опыта работы, но это желательно проверить на более объёмной выборке*"
      ]
    },
    {
      "cell_type": "markdown",
      "id": "c0ED6fh7wiBT",
      "metadata": {
        "id": "c0ED6fh7wiBT"
      },
      "source": [
        "# Общий вывод по проекту"
      ]
    },
    {
      "cell_type": "markdown",
      "id": "a1b4b6e4",
      "metadata": {},
      "source": [
        "*К сожалению те задания, которые пришлось решать в ходе выполнения данного проекта не позволяют мне сделать какие-то общие выводы по этим данным...*"
      ]
    },
    {
      "cell_type": "code",
      "execution_count": 1365,
      "id": "h9B3BL-wwj18",
      "metadata": {
        "id": "h9B3BL-wwj18"
      },
      "outputs": [],
      "source": [
        "# подведем итог исследования, обобщите выводы\n",
        "# здесь можно (это будет плюсом) провести дополнительные исследования данных, сделать прогнозы, продумать варианты продолжения исследования"
      ]
    },
    {
      "cell_type": "markdown",
      "id": "63d2c5d2",
      "metadata": {},
      "source": [
        "### *Дополниельные исследования*"
      ]
    },
    {
      "cell_type": "code",
      "execution_count": 1366,
      "id": "f2616048",
      "metadata": {},
      "outputs": [
        {
          "name": "stderr",
          "output_type": "stream",
          "text": [
            "D:\\Temp\\ipykernel_23264\\3823608848.py:14: UserWarning: pandas only supports SQLAlchemy connectable (engine/connection) or database string URI or sqlite3 DBAPI2 connection. Other DBAPI2 objects are not tested. Please consider using SQLAlchemy.\n",
            "  ds_vacancies_df = pd.read_sql_query(query_ds_vacancy, connection)\n"
          ]
        },
        {
          "name": "stdout",
          "output_type": "stream",
          "text": [
            "Количество вакансий Data Scientist в крупных компаниях (топ 50): 187\n",
            "Процент вакансий Data Scientist в крупных компаниях (топ 50): 38.96%\n"
          ]
        }
      ],
      "source": [
        "query_ds_vacancy = f\"\"\"\n",
        "SELECT *\n",
        "    \n",
        "FROM vacancies\n",
        "WHERE (\n",
        "    LOWER(name) LIKE '%data scientist%' OR\n",
        "    LOWER(name) LIKE '%data science%' OR\n",
        "    LOWER(name) LIKE '%исследователь данных%' OR\n",
        "    (name LIKE '%ML%' AND name NOT LIKE '%HTML%') OR\n",
        "    LOWER(name) LIKE '%machine learning%' OR\n",
        "    (LOWER(name) LIKE '%машинн%' AND LOWER(name) LIKE '%обучен%')\n",
        ")\n",
        "\"\"\"\n",
        "ds_vacancies_df = pd.read_sql_query(query_ds_vacancy, connection)\n",
        "ds_vacancies_df\n",
        "# Сколько вакансий Data Scientist в крупных компаниях top50_employers_df\n",
        "ds_vacancies_top50_df = ds_vacancies_df[ds_vacancies_df['employer_id'].isin(top50_employers_df['employer_id'])]\n",
        "ds_vacancies_top50_count = ds_vacancies_top50_df.shape[0]\n",
        "print(f\"Количество вакансий Data Scientist в крупных компаниях (топ 50): {ds_vacancies_top50_count}\")\n",
        "# расчитать процент ds_vacancies_top50_count от ds_vacancies_count_df\n",
        "ds_vacancies_top50_percentage = (ds_vacancies_top50_count / ds_vacancies_count_df.iloc[0, 0]) * 100\n",
        "print(f\"Процент вакансий Data Scientist в крупных компаниях (топ 50): {ds_vacancies_top50_percentage:.2f}%\")"
      ]
    },
    {
      "cell_type": "code",
      "execution_count": 1367,
      "id": "c00a1c8f",
      "metadata": {},
      "outputs": [
        {
          "name": "stderr",
          "output_type": "stream",
          "text": [
            "D:\\Temp\\ipykernel_23264\\4004335615.py:5: FutureWarning: Passing literal html to 'read_html' is deprecated and will be removed in a future version. To read from a literal string, wrap it in a 'StringIO' object.\n",
            "  tables_million_cities = pd.read_html(requests.get(url_million_cities).text)\n"
          ]
        },
        {
          "data": {
            "text/html": [
              "<div>\n",
              "<style scoped>\n",
              "    .dataframe tbody tr th:only-of-type {\n",
              "        vertical-align: middle;\n",
              "    }\n",
              "\n",
              "    .dataframe tbody tr th {\n",
              "        vertical-align: top;\n",
              "    }\n",
              "\n",
              "    .dataframe thead th {\n",
              "        text-align: right;\n",
              "    }\n",
              "</style>\n",
              "<table border=\"1\" class=\"dataframe\">\n",
              "  <thead>\n",
              "    <tr style=\"text-align: right;\">\n",
              "      <th></th>\n",
              "      <th>№ п/п</th>\n",
              "      <th>Город</th>\n",
              "      <th>Страна</th>\n",
              "      <th>Население</th>\n",
              "      <th>Год переписи</th>\n",
              "    </tr>\n",
              "  </thead>\n",
              "  <tbody>\n",
              "    <tr>\n",
              "      <th>0</th>\n",
              "      <td>1</td>\n",
              "      <td>Шанхай</td>\n",
              "      <td>Китай</td>\n",
              "      <td>26 875 500</td>\n",
              "      <td>2022</td>\n",
              "    </tr>\n",
              "    <tr>\n",
              "      <th>1</th>\n",
              "      <td>2</td>\n",
              "      <td>Пекин</td>\n",
              "      <td>Китай</td>\n",
              "      <td>21 843 000</td>\n",
              "      <td>2022</td>\n",
              "    </tr>\n",
              "    <tr>\n",
              "      <th>2</th>\n",
              "      <td>3</td>\n",
              "      <td>Дели</td>\n",
              "      <td>Индия</td>\n",
              "      <td>20 591 874</td>\n",
              "      <td>2021</td>\n",
              "    </tr>\n",
              "    <tr>\n",
              "      <th>3</th>\n",
              "      <td>4</td>\n",
              "      <td>Карачи</td>\n",
              "      <td>Пакистан</td>\n",
              "      <td>20 382 881</td>\n",
              "      <td>2023</td>\n",
              "    </tr>\n",
              "    <tr>\n",
              "      <th>4</th>\n",
              "      <td>5</td>\n",
              "      <td>Гуанчжоу</td>\n",
              "      <td>Китай</td>\n",
              "      <td>18 734 100</td>\n",
              "      <td>2022</td>\n",
              "    </tr>\n",
              "  </tbody>\n",
              "</table>\n",
              "</div>"
            ],
            "text/plain": [
              "   № п/п     Город    Страна    Население Год переписи\n",
              "0      1    Шанхай     Китай  26 875 500          2022\n",
              "1      2     Пекин     Китай  21 843 000          2022\n",
              "2      3      Дели     Индия  20 591 874          2021\n",
              "3      4    Карачи  Пакистан  20 382 881          2023\n",
              "4      5  Гуанчжоу     Китай  18 734 100          2022"
            ]
          },
          "execution_count": 1367,
          "metadata": {},
          "output_type": "execute_result"
        }
      ],
      "source": [
        "# Скачиваем таблицу городов-миллионеров с указанной страницы Википедии\n",
        "url_million_cities = (\n",
        "    \"https://ru.wikipedia.org/wiki/Список_городов_с_населением_более_миллиона_человек\"\n",
        ")\n",
        "tables_million_cities = pd.read_html(requests.get(url_million_cities).text)\n",
        "\n",
        "# Обычно первая таблица содержит нужные данные, но проверим структуру\n",
        "# Выведем первые строки таблицы для ознакомления\n",
        "million_cities_table = tables_million_cities[0]\n",
        "# У далить \"Фото[4]\" и \"Комментарии, ссылки\"\n",
        "million_cities_table = million_cities_table.drop(columns=[\"Фото[4]\", \"Комментарии, ссылки\"])\n",
        "# Столбец Население (год переписи)[3] разделить на два столбца: Население и Год переписи, где население, например 26 875 500 указано без скобок, год переписи - в скобках, цифры в [] ignore\n",
        "million_cities_table[['Население', 'Год переписи']] = million_cities_table['Население (год переписи)[3]'].str.extract(r'(\\d[\\d\\s]*)\\s*\\((\\d{4})\\)')\n",
        "\n",
        "\n",
        "# Удалить столбец \"Население (год переписи)[3]\"\n",
        "million_cities_table = million_cities_table.drop(columns=['Население (год переписи)[3]'])\n",
        "million_cities_table.head()"
      ]
    },
    {
      "cell_type": "code",
      "execution_count": 1368,
      "id": "09a485b5",
      "metadata": {},
      "outputs": [
        {
          "name": "stderr",
          "output_type": "stream",
          "text": [
            "D:\\Temp\\ipykernel_23264\\3203383166.py:7: UserWarning: pandas only supports SQLAlchemy connectable (engine/connection) or database string URI or sqlite3 DBAPI2 connection. Other DBAPI2 objects are not tested. Please consider using SQLAlchemy.\n",
            "  million_area_df = pd.read_sql(query_area, connection)\n"
          ]
        }
      ],
      "source": [
        "query_area = f\"\"\"\n",
        "SELECT \n",
        "    id, \n",
        "    name\n",
        "FROM areas\n",
        "\"\"\"\n",
        "million_area_df = pd.read_sql(query_area, connection)\n",
        "# merge area_df with million_cities_table on name\n",
        "million_area_df = million_area_df.merge(\n",
        "    million_cities_table, left_on=\"name\", right_on=\"Город\", how=\"left\"\n",
        ")\n",
        "# Удаление колонок № п/п, Город, Год переписи, фильтрация Город not null\n",
        "million_area_df = million_area_df.drop(columns=[\"№ п/п\", \"Город\", \"Год переписи\"])\n",
        "million_area_df = million_area_df[million_area_df[\"Страна\"].notnull()]\n",
        "# Столбцы id и name в area_id и area_name соответственно\n",
        "million_area_df.rename(columns={\"id\": \"area_id\", \"name\": \"area_name\"}, inplace=True)\n",
        "\n",
        "# million_area_df"
      ]
    },
    {
      "cell_type": "code",
      "execution_count": 1369,
      "id": "b08fdced",
      "metadata": {},
      "outputs": [
        {
          "name": "stdout",
          "output_type": "stream",
          "text": [
            "          area_name      country  vacancies_count\n",
            "0             Total          All              398\n",
            "1            Москва       Россия              217\n",
            "2   Санкт-Петербург       Россия               64\n",
            "3       Новосибирск       Россия               23\n",
            "4   Нижний Новгород       Россия               20\n",
            "5            Казань       Россия               16\n",
            "6             Минск     Беларусь                9\n",
            "7      Екатеринбург       Россия                7\n",
            "8         Краснодар       Россия                6\n",
            "9    Ростов-на-Дону       Россия                6\n",
            "10            Пермь       Россия                5\n",
            "11           Самара       Россия                5\n",
            "12          Ташкент   Узбекистан                4\n",
            "13             Омск       Россия                3\n",
            "14          Тбилиси       Грузия                3\n",
            "15             Баку  Азербайджан                2\n",
            "16          Воронеж       Россия                2\n",
            "17              Уфа       Россия                2\n",
            "18           Бишкек   Кыргызстан                1\n",
            "19        Волгоград       Россия                1\n",
            "20       Красноярск       Россия                1\n",
            "21        Челябинск       Россия                1\n"
          ]
        }
      ],
      "source": [
        "# merge ds_vacancies_df & million_area_df on area_id. Из million_area_df оставить только area_id, area_name, Население, Страна\n",
        "ds_vacancies_million_df = ds_vacancies_df.merge(\n",
        "    million_area_df[[\"area_id\", \"area_name\", \"Население\", \"Страна\"]],\n",
        "    on=\"area_id\",\n",
        "    how=\"left\"\n",
        ")\n",
        "ds_vacancies_million_df.rename(columns={\"Население\": \"population\", \"Страна\": \"country\"}, inplace=True)\n",
        "# Заменить NaN в столбцах area_name, country на 'Другое'\n",
        "ds_vacancies_million_df['area_name'] = ds_vacancies_million_df['area_name'].fillna('Другое')\n",
        "ds_vacancies_million_df['country'] = ds_vacancies_million_df['country'].fillna('Другое')\n",
        "ds_vacancies_million_df\n",
        "# выгрузить ds_vacancies_million_df в excel файл\n",
        "# ds_vacancies_million_df.to_excel('ds_vacancies_million.xlsx', index=False)\n",
        "# группировать по area_name и country, считать количество вакансий, удалить строку \"Другое\", посчитать общее количество вакансий в городах-миллионниках\n",
        "\n",
        "ds_vacancies_million_df = ds_vacancies_million_df[ds_vacancies_million_df['area_name'] != 'Другое']\n",
        "# Группируем по area_name и country, считаем количество вакансий\n",
        "million_cities_grouped = ds_vacancies_million_df.groupby(['area_name', 'country']).size().reset_index(name='vacancies_count')\n",
        "# подчитать общее количество вакансий в городах-миллионниках и добавить в отдельную строку в million_cities_grouped\n",
        "total_vacancies_count = million_cities_grouped['vacancies_count'].sum()\n",
        "total_row = pd.DataFrame({'area_name': ['Total'], 'country': ['All'], 'vacancies_count': [total_vacancies_count]})\n",
        "million_cities_grouped = pd.concat([million_cities_grouped, total_row], ignore_index=True)\n",
        "# сортировать по количеству 1. вакансий в порядке убывания 2. по названию города в алфавитном порядке\n",
        "million_cities_grouped = million_cities_grouped.sort_values(by=['vacancies_count', 'area_name'], ascending=[False, True])\n",
        "# Выводим результат не показывать индекс\n",
        "million_cities_grouped.reset_index(drop=True, inplace=True)\n",
        "print(million_cities_grouped)\n"
      ]
    },
    {
      "cell_type": "markdown",
      "id": "7c295502",
      "metadata": {},
      "source": [
        "#### *Выводы*"
      ]
    },
    {
      "cell_type": "markdown",
      "id": "8ee800f5",
      "metadata": {},
      "source": [
        "1. *Был проведён анализ появления вакансии DS специалиста в списках ТОП50 компаний по количеству опубликованных вакансий. Как оказалось из 480 вакансий DS, 187 или почти 40% оказалось в списках крупных работодателей, что говорит о востребованности данной специализации у крупного бизнеса.*\n",
        "2. *Ещё более наглядная картина по распределению вакансий DS в разрезе городов с населением более 1 000 000 человек. Подавляющее большинство, более 80% из общего количества приходится на эти города, а почти половина от всех вакансий DS находится в Москве, где сосредоточено большинство штаб-квартир крупных компаний и компаний специализирующихся в IT разработках.*"
      ]
    },
    {
      "cell_type": "code",
      "execution_count": 1370,
      "id": "cd427b99",
      "metadata": {},
      "outputs": [],
      "source": [
        "# Закрываем соединение с базой данных\n",
        "connection.close()"
      ]
    }
  ],
  "metadata": {
    "colab": {
      "collapsed_sections": [
        "8d62a9f3-f64e-4fe7-bdac-c4dffa16155e"
      ],
      "provenance": []
    },
    "kernelspec": {
      "display_name": "Python 3",
      "language": "python",
      "name": "python3"
    },
    "language_info": {
      "codemirror_mode": {
        "name": "ipython",
        "version": 3
      },
      "file_extension": ".py",
      "mimetype": "text/x-python",
      "name": "python",
      "nbconvert_exporter": "python",
      "pygments_lexer": "ipython3",
      "version": "3.13.1"
    }
  },
  "nbformat": 4,
  "nbformat_minor": 5
}
